{
 "cells": [
  {
   "cell_type": "markdown",
   "metadata": {},
   "source": [
    "## Crypto Arbitrage\n",
    "\n",
    "In this Challenge, you'll take on the role of an analyst at a high-tech investment firm. The vice president (VP) of your department is considering arbitrage opportunities in Bitcoin and other cryptocurrencies. As Bitcoin trades on markets across the globe, can you capitalize on simultaneous price dislocations in those markets by using the powers of Pandas?\n",
    "\n",
    "For this assignment, you’ll sort through historical trade data for Bitcoin on two exchanges: Bitstamp and Coinbase. Your task is to apply the three phases of financial analysis to determine if any arbitrage opportunities exist for Bitcoin.\n",
    "\n",
    "This aspect of the Challenge will consist of 3 phases.\n",
    "\n",
    "1. Collect the data.\n",
    "\n",
    "2. Prepare the data.\n",
    "\n",
    "3. Analyze the data. \n",
    "\n"
   ]
  },
  {
   "cell_type": "markdown",
   "metadata": {},
   "source": [
    "###  Import the required libraries and dependencies."
   ]
  },
  {
   "cell_type": "code",
   "execution_count": 1,
   "metadata": {},
   "outputs": [],
   "source": [
    "import pandas as pd\n",
    "from pathlib import Path\n",
    "%matplotlib inline\n",
    "import numpy as np"
   ]
  },
  {
   "cell_type": "markdown",
   "metadata": {},
   "source": [
    "## Collect the Data\n",
    "\n",
    "To collect the data that you’ll need, complete the following steps:\n",
    "\n",
    "Instructions. \n",
    "\n",
    "1. Using the Pandas `read_csv` function and the `Path` module, import the data from `bitstamp.csv` file, and create a DataFrame called `bitstamp`. Set the DatetimeIndex as the Timestamp column, and be sure to parse and format the dates.\n",
    "\n",
    "2. Use the `head` (and/or the `tail`) function to confirm that Pandas properly imported the data.\n",
    "\n",
    "3. Repeat Steps 1 and 2 for `coinbase.csv` file."
   ]
  },
  {
   "cell_type": "markdown",
   "metadata": {},
   "source": [
    "### Step 1: Using the Pandas `read_csv` function and the `Path` module, import the data from `bitstamp.csv` file, and create a DataFrame called `bitstamp`. Set the DatetimeIndex as the Timestamp column, and be sure to parse and format the dates."
   ]
  },
  {
   "cell_type": "code",
   "execution_count": 2,
   "metadata": {},
   "outputs": [],
   "source": [
    "# Read in the CSV file called \"bitstamp.csv\" using the Path module. \n",
    "# The CSV file is located in the Resources folder.\n",
    "# Set the index to the column \"Date\"\n",
    "# Set the parse_dates and infer_datetime_format parameters\n",
    "bitstamp_df = bitstamp_dataframe=pd.read_csv(\n",
    "    Path('./Resources/bitstamp.csv'),\n",
    "    index_col=\"Timestamp\",\n",
    "    parse_dates=True,\n",
    "    infer_datetime_format=True\n",
    ")\n"
   ]
  },
  {
   "cell_type": "markdown",
   "metadata": {},
   "source": [
    "### Step 2: Use the `head` (and/or the `tail`) function to confirm that Pandas properly imported the data."
   ]
  },
  {
   "cell_type": "code",
   "execution_count": 3,
   "metadata": {},
   "outputs": [
    {
     "data": {
      "text/html": [
       "<div>\n",
       "<style scoped>\n",
       "    .dataframe tbody tr th:only-of-type {\n",
       "        vertical-align: middle;\n",
       "    }\n",
       "\n",
       "    .dataframe tbody tr th {\n",
       "        vertical-align: top;\n",
       "    }\n",
       "\n",
       "    .dataframe thead th {\n",
       "        text-align: right;\n",
       "    }\n",
       "</style>\n",
       "<table border=\"1\" class=\"dataframe\">\n",
       "  <thead>\n",
       "    <tr style=\"text-align: right;\">\n",
       "      <th></th>\n",
       "      <th>Open</th>\n",
       "      <th>High</th>\n",
       "      <th>Low</th>\n",
       "      <th>Close</th>\n",
       "      <th>BTC Volume</th>\n",
       "      <th>USD Volume</th>\n",
       "      <th>Weighted Price</th>\n",
       "    </tr>\n",
       "    <tr>\n",
       "      <th>Timestamp</th>\n",
       "      <th></th>\n",
       "      <th></th>\n",
       "      <th></th>\n",
       "      <th></th>\n",
       "      <th></th>\n",
       "      <th></th>\n",
       "      <th></th>\n",
       "    </tr>\n",
       "  </thead>\n",
       "  <tbody>\n",
       "    <tr>\n",
       "      <th>2015-12-31 19:01:00</th>\n",
       "      <td>430.89</td>\n",
       "      <td>430.89</td>\n",
       "      <td>430.89</td>\n",
       "      <td>$430.89</td>\n",
       "      <td>0.080631</td>\n",
       "      <td>34.743096</td>\n",
       "      <td>430.890000</td>\n",
       "    </tr>\n",
       "    <tr>\n",
       "      <th>2015-12-31 19:02:00</th>\n",
       "      <td>430.89</td>\n",
       "      <td>430.89</td>\n",
       "      <td>430.89</td>\n",
       "      <td>$430.89</td>\n",
       "      <td>0.143257</td>\n",
       "      <td>61.728095</td>\n",
       "      <td>430.890000</td>\n",
       "    </tr>\n",
       "    <tr>\n",
       "      <th>2015-12-31 19:03:00</th>\n",
       "      <td>NaN</td>\n",
       "      <td>NaN</td>\n",
       "      <td>NaN</td>\n",
       "      <td>$nan</td>\n",
       "      <td>NaN</td>\n",
       "      <td>NaN</td>\n",
       "      <td>NaN</td>\n",
       "    </tr>\n",
       "    <tr>\n",
       "      <th>2015-12-31 19:04:00</th>\n",
       "      <td>430.19</td>\n",
       "      <td>431.06</td>\n",
       "      <td>430.19</td>\n",
       "      <td>$431.06</td>\n",
       "      <td>1.032161</td>\n",
       "      <td>444.627575</td>\n",
       "      <td>430.773269</td>\n",
       "    </tr>\n",
       "    <tr>\n",
       "      <th>2015-12-31 19:05:00</th>\n",
       "      <td>431.06</td>\n",
       "      <td>432.11</td>\n",
       "      <td>430.21</td>\n",
       "      <td>$430.54</td>\n",
       "      <td>5.558156</td>\n",
       "      <td>2397.461993</td>\n",
       "      <td>431.341280</td>\n",
       "    </tr>\n",
       "  </tbody>\n",
       "</table>\n",
       "</div>"
      ],
      "text/plain": [
       "                       Open    High     Low    Close  BTC Volume   USD Volume  \\\n",
       "Timestamp                                                                       \n",
       "2015-12-31 19:01:00  430.89  430.89  430.89  $430.89    0.080631    34.743096   \n",
       "2015-12-31 19:02:00  430.89  430.89  430.89  $430.89    0.143257    61.728095   \n",
       "2015-12-31 19:03:00     NaN     NaN     NaN     $nan         NaN          NaN   \n",
       "2015-12-31 19:04:00  430.19  431.06  430.19  $431.06    1.032161   444.627575   \n",
       "2015-12-31 19:05:00  431.06  432.11  430.21  $430.54    5.558156  2397.461993   \n",
       "\n",
       "                     Weighted Price  \n",
       "Timestamp                            \n",
       "2015-12-31 19:01:00      430.890000  \n",
       "2015-12-31 19:02:00      430.890000  \n",
       "2015-12-31 19:03:00             NaN  \n",
       "2015-12-31 19:04:00      430.773269  \n",
       "2015-12-31 19:05:00      431.341280  "
      ]
     },
     "execution_count": 3,
     "metadata": {},
     "output_type": "execute_result"
    }
   ],
   "source": [
    "# Use the head (and/or tail) function to confirm that the data was imported properly.\n",
    "# YOUR CODE HERE\n",
    "bitstamp_df.head()"
   ]
  },
  {
   "cell_type": "code",
   "execution_count": 4,
   "metadata": {},
   "outputs": [
    {
     "data": {
      "text/html": [
       "<div>\n",
       "<style scoped>\n",
       "    .dataframe tbody tr th:only-of-type {\n",
       "        vertical-align: middle;\n",
       "    }\n",
       "\n",
       "    .dataframe tbody tr th {\n",
       "        vertical-align: top;\n",
       "    }\n",
       "\n",
       "    .dataframe thead th {\n",
       "        text-align: right;\n",
       "    }\n",
       "</style>\n",
       "<table border=\"1\" class=\"dataframe\">\n",
       "  <thead>\n",
       "    <tr style=\"text-align: right;\">\n",
       "      <th></th>\n",
       "      <th>Open</th>\n",
       "      <th>High</th>\n",
       "      <th>Low</th>\n",
       "      <th>Close</th>\n",
       "      <th>BTC Volume</th>\n",
       "      <th>USD Volume</th>\n",
       "      <th>Weighted Price</th>\n",
       "    </tr>\n",
       "    <tr>\n",
       "      <th>Timestamp</th>\n",
       "      <th></th>\n",
       "      <th></th>\n",
       "      <th></th>\n",
       "      <th></th>\n",
       "      <th></th>\n",
       "      <th></th>\n",
       "      <th></th>\n",
       "    </tr>\n",
       "  </thead>\n",
       "  <tbody>\n",
       "    <tr>\n",
       "      <th>2019-01-07 23:55:00</th>\n",
       "      <td>3977.81</td>\n",
       "      <td>3977.81</td>\n",
       "      <td>3977.81</td>\n",
       "      <td>$3977.81</td>\n",
       "      <td>0.008042</td>\n",
       "      <td>31.988752</td>\n",
       "      <td>3977.810000</td>\n",
       "    </tr>\n",
       "    <tr>\n",
       "      <th>2019-01-07 23:56:00</th>\n",
       "      <td>NaN</td>\n",
       "      <td>NaN</td>\n",
       "      <td>NaN</td>\n",
       "      <td>$nan</td>\n",
       "      <td>NaN</td>\n",
       "      <td>NaN</td>\n",
       "      <td>NaN</td>\n",
       "    </tr>\n",
       "    <tr>\n",
       "      <th>2019-01-07 23:57:00</th>\n",
       "      <td>3977.81</td>\n",
       "      <td>3984.40</td>\n",
       "      <td>3977.81</td>\n",
       "      <td>$3984.4</td>\n",
       "      <td>8.907403</td>\n",
       "      <td>35464.870894</td>\n",
       "      <td>3981.504964</td>\n",
       "    </tr>\n",
       "    <tr>\n",
       "      <th>2019-01-07 23:58:00</th>\n",
       "      <td>3980.97</td>\n",
       "      <td>3980.97</td>\n",
       "      <td>3980.97</td>\n",
       "      <td>$3980.97</td>\n",
       "      <td>1.615929</td>\n",
       "      <td>6432.963358</td>\n",
       "      <td>3980.970000</td>\n",
       "    </tr>\n",
       "    <tr>\n",
       "      <th>2019-01-07 23:59:00</th>\n",
       "      <td>3979.07</td>\n",
       "      <td>3983.52</td>\n",
       "      <td>3979.07</td>\n",
       "      <td>$3983.52</td>\n",
       "      <td>1.920004</td>\n",
       "      <td>7643.937878</td>\n",
       "      <td>3981.209496</td>\n",
       "    </tr>\n",
       "  </tbody>\n",
       "</table>\n",
       "</div>"
      ],
      "text/plain": [
       "                        Open     High      Low     Close  BTC Volume  \\\n",
       "Timestamp                                                              \n",
       "2019-01-07 23:55:00  3977.81  3977.81  3977.81  $3977.81    0.008042   \n",
       "2019-01-07 23:56:00      NaN      NaN      NaN      $nan         NaN   \n",
       "2019-01-07 23:57:00  3977.81  3984.40  3977.81   $3984.4    8.907403   \n",
       "2019-01-07 23:58:00  3980.97  3980.97  3980.97  $3980.97    1.615929   \n",
       "2019-01-07 23:59:00  3979.07  3983.52  3979.07  $3983.52    1.920004   \n",
       "\n",
       "                       USD Volume  Weighted Price  \n",
       "Timestamp                                          \n",
       "2019-01-07 23:55:00     31.988752     3977.810000  \n",
       "2019-01-07 23:56:00           NaN             NaN  \n",
       "2019-01-07 23:57:00  35464.870894     3981.504964  \n",
       "2019-01-07 23:58:00   6432.963358     3980.970000  \n",
       "2019-01-07 23:59:00   7643.937878     3981.209496  "
      ]
     },
     "execution_count": 4,
     "metadata": {},
     "output_type": "execute_result"
    }
   ],
   "source": [
    "bitstamp_df.tail()"
   ]
  },
  {
   "cell_type": "markdown",
   "metadata": {},
   "source": [
    "### Step 3: Repeat Steps 1 and 2 for `coinbase.csv` file."
   ]
  },
  {
   "cell_type": "code",
   "execution_count": 5,
   "metadata": {},
   "outputs": [],
   "source": [
    "# Read in the CSV file called \"coinbase.csv\" using the Path module. \n",
    "# The CSV file is located in the Resources folder.\n",
    "# Set the index to the column \"Timestamp\"\n",
    "# Set the parse_dates and infer_datetime_format parameters\n",
    "coinbase_df = coinbase_dataframe=pd.read_csv(\n",
    "    Path('./Resources/coinbase.csv'),\n",
    "    index_col=\"Timestamp\",\n",
    "    parse_dates=True,\n",
    "    infer_datetime_format=True\n",
    ")\n"
   ]
  },
  {
   "cell_type": "code",
   "execution_count": 6,
   "metadata": {},
   "outputs": [
    {
     "data": {
      "text/html": [
       "<div>\n",
       "<style scoped>\n",
       "    .dataframe tbody tr th:only-of-type {\n",
       "        vertical-align: middle;\n",
       "    }\n",
       "\n",
       "    .dataframe tbody tr th {\n",
       "        vertical-align: top;\n",
       "    }\n",
       "\n",
       "    .dataframe thead th {\n",
       "        text-align: right;\n",
       "    }\n",
       "</style>\n",
       "<table border=\"1\" class=\"dataframe\">\n",
       "  <thead>\n",
       "    <tr style=\"text-align: right;\">\n",
       "      <th></th>\n",
       "      <th>Open</th>\n",
       "      <th>High</th>\n",
       "      <th>Low</th>\n",
       "      <th>Close</th>\n",
       "      <th>BTC Volume</th>\n",
       "      <th>USD Volume</th>\n",
       "      <th>Weighted Price</th>\n",
       "    </tr>\n",
       "    <tr>\n",
       "      <th>Timestamp</th>\n",
       "      <th></th>\n",
       "      <th></th>\n",
       "      <th></th>\n",
       "      <th></th>\n",
       "      <th></th>\n",
       "      <th></th>\n",
       "      <th></th>\n",
       "    </tr>\n",
       "  </thead>\n",
       "  <tbody>\n",
       "    <tr>\n",
       "      <th>2015-12-31 19:01:00</th>\n",
       "      <td>430.38</td>\n",
       "      <td>430.40</td>\n",
       "      <td>430.38</td>\n",
       "      <td>$430.4</td>\n",
       "      <td>0.947800</td>\n",
       "      <td>407.924370</td>\n",
       "      <td>430.390768</td>\n",
       "    </tr>\n",
       "    <tr>\n",
       "      <th>2015-12-31 19:02:00</th>\n",
       "      <td>430.40</td>\n",
       "      <td>430.40</td>\n",
       "      <td>430.40</td>\n",
       "      <td>$430.4</td>\n",
       "      <td>1.633400</td>\n",
       "      <td>703.015360</td>\n",
       "      <td>430.400000</td>\n",
       "    </tr>\n",
       "    <tr>\n",
       "      <th>2015-12-31 19:03:00</th>\n",
       "      <td>430.39</td>\n",
       "      <td>430.39</td>\n",
       "      <td>430.36</td>\n",
       "      <td>$430.36</td>\n",
       "      <td>12.566300</td>\n",
       "      <td>5408.313368</td>\n",
       "      <td>430.382322</td>\n",
       "    </tr>\n",
       "    <tr>\n",
       "      <th>2015-12-31 19:04:00</th>\n",
       "      <td>430.39</td>\n",
       "      <td>430.39</td>\n",
       "      <td>430.39</td>\n",
       "      <td>$430.39</td>\n",
       "      <td>1.953000</td>\n",
       "      <td>840.551670</td>\n",
       "      <td>430.390000</td>\n",
       "    </tr>\n",
       "    <tr>\n",
       "      <th>2015-12-31 19:05:00</th>\n",
       "      <td>430.40</td>\n",
       "      <td>430.96</td>\n",
       "      <td>430.40</td>\n",
       "      <td>$430.96</td>\n",
       "      <td>12.114161</td>\n",
       "      <td>5216.297064</td>\n",
       "      <td>430.595001</td>\n",
       "    </tr>\n",
       "  </tbody>\n",
       "</table>\n",
       "</div>"
      ],
      "text/plain": [
       "                       Open    High     Low    Close  BTC Volume   USD Volume  \\\n",
       "Timestamp                                                                       \n",
       "2015-12-31 19:01:00  430.38  430.40  430.38   $430.4    0.947800   407.924370   \n",
       "2015-12-31 19:02:00  430.40  430.40  430.40   $430.4    1.633400   703.015360   \n",
       "2015-12-31 19:03:00  430.39  430.39  430.36  $430.36   12.566300  5408.313368   \n",
       "2015-12-31 19:04:00  430.39  430.39  430.39  $430.39    1.953000   840.551670   \n",
       "2015-12-31 19:05:00  430.40  430.96  430.40  $430.96   12.114161  5216.297064   \n",
       "\n",
       "                     Weighted Price  \n",
       "Timestamp                            \n",
       "2015-12-31 19:01:00      430.390768  \n",
       "2015-12-31 19:02:00      430.400000  \n",
       "2015-12-31 19:03:00      430.382322  \n",
       "2015-12-31 19:04:00      430.390000  \n",
       "2015-12-31 19:05:00      430.595001  "
      ]
     },
     "execution_count": 6,
     "metadata": {},
     "output_type": "execute_result"
    }
   ],
   "source": [
    "# Use the head (and/or tail) function to confirm that the data was imported properly.\n",
    "# YOUR CODE HERE\n",
    "coinbase_df.head()"
   ]
  },
  {
   "cell_type": "code",
   "execution_count": 7,
   "metadata": {},
   "outputs": [
    {
     "data": {
      "text/html": [
       "<div>\n",
       "<style scoped>\n",
       "    .dataframe tbody tr th:only-of-type {\n",
       "        vertical-align: middle;\n",
       "    }\n",
       "\n",
       "    .dataframe tbody tr th {\n",
       "        vertical-align: top;\n",
       "    }\n",
       "\n",
       "    .dataframe thead th {\n",
       "        text-align: right;\n",
       "    }\n",
       "</style>\n",
       "<table border=\"1\" class=\"dataframe\">\n",
       "  <thead>\n",
       "    <tr style=\"text-align: right;\">\n",
       "      <th></th>\n",
       "      <th>Open</th>\n",
       "      <th>High</th>\n",
       "      <th>Low</th>\n",
       "      <th>Close</th>\n",
       "      <th>BTC Volume</th>\n",
       "      <th>USD Volume</th>\n",
       "      <th>Weighted Price</th>\n",
       "    </tr>\n",
       "    <tr>\n",
       "      <th>Timestamp</th>\n",
       "      <th></th>\n",
       "      <th></th>\n",
       "      <th></th>\n",
       "      <th></th>\n",
       "      <th></th>\n",
       "      <th></th>\n",
       "      <th></th>\n",
       "    </tr>\n",
       "  </thead>\n",
       "  <tbody>\n",
       "    <tr>\n",
       "      <th>2019-01-07 17:02:00</th>\n",
       "      <td>4006.01</td>\n",
       "      <td>4006.57</td>\n",
       "      <td>4006.00</td>\n",
       "      <td>$4006.01</td>\n",
       "      <td>3.382954</td>\n",
       "      <td>13553.433078</td>\n",
       "      <td>4006.390309</td>\n",
       "    </tr>\n",
       "    <tr>\n",
       "      <th>2019-01-07 17:03:00</th>\n",
       "      <td>4006.01</td>\n",
       "      <td>4006.57</td>\n",
       "      <td>4006.00</td>\n",
       "      <td>$4006.01</td>\n",
       "      <td>0.902164</td>\n",
       "      <td>3614.083169</td>\n",
       "      <td>4006.017233</td>\n",
       "    </tr>\n",
       "    <tr>\n",
       "      <th>2019-01-07 17:04:00</th>\n",
       "      <td>4006.01</td>\n",
       "      <td>4006.01</td>\n",
       "      <td>4006.00</td>\n",
       "      <td>$4006.01</td>\n",
       "      <td>1.192123</td>\n",
       "      <td>4775.647308</td>\n",
       "      <td>4006.003635</td>\n",
       "    </tr>\n",
       "    <tr>\n",
       "      <th>2019-01-07 17:05:00</th>\n",
       "      <td>4006.01</td>\n",
       "      <td>4006.01</td>\n",
       "      <td>4005.50</td>\n",
       "      <td>$4005.5</td>\n",
       "      <td>2.699700</td>\n",
       "      <td>10814.241898</td>\n",
       "      <td>4005.719991</td>\n",
       "    </tr>\n",
       "    <tr>\n",
       "      <th>2019-01-07 17:06:00</th>\n",
       "      <td>4005.51</td>\n",
       "      <td>4006.01</td>\n",
       "      <td>4005.51</td>\n",
       "      <td>$4005.99</td>\n",
       "      <td>1.752778</td>\n",
       "      <td>7021.183546</td>\n",
       "      <td>4005.745614</td>\n",
       "    </tr>\n",
       "  </tbody>\n",
       "</table>\n",
       "</div>"
      ],
      "text/plain": [
       "                        Open     High      Low     Close  BTC Volume  \\\n",
       "Timestamp                                                              \n",
       "2019-01-07 17:02:00  4006.01  4006.57  4006.00  $4006.01    3.382954   \n",
       "2019-01-07 17:03:00  4006.01  4006.57  4006.00  $4006.01    0.902164   \n",
       "2019-01-07 17:04:00  4006.01  4006.01  4006.00  $4006.01    1.192123   \n",
       "2019-01-07 17:05:00  4006.01  4006.01  4005.50   $4005.5    2.699700   \n",
       "2019-01-07 17:06:00  4005.51  4006.01  4005.51  $4005.99    1.752778   \n",
       "\n",
       "                       USD Volume  Weighted Price  \n",
       "Timestamp                                          \n",
       "2019-01-07 17:02:00  13553.433078     4006.390309  \n",
       "2019-01-07 17:03:00   3614.083169     4006.017233  \n",
       "2019-01-07 17:04:00   4775.647308     4006.003635  \n",
       "2019-01-07 17:05:00  10814.241898     4005.719991  \n",
       "2019-01-07 17:06:00   7021.183546     4005.745614  "
      ]
     },
     "execution_count": 7,
     "metadata": {},
     "output_type": "execute_result"
    }
   ],
   "source": [
    "coinbase_df.tail()"
   ]
  },
  {
   "cell_type": "markdown",
   "metadata": {},
   "source": [
    "## Prepare the Data\n",
    "\n",
    "To prepare and clean your data for analysis, complete the following steps:\n",
    "\n",
    "1. For the bitstamp DataFrame, replace or drop all `NaN`, or missing, values in the DataFrame.\n",
    "\n",
    "2. Use the `str.replace` function to remove the dollar signs ($) from the values in the Close column.\n",
    "\n",
    "3. Convert the data type of the Close column to a `float`.\n",
    "\n",
    "4. Review the data for duplicated values, and drop them if necessary.\n",
    "\n",
    "5. Repeat Steps 1–4 for the coinbase DataFrame."
   ]
  },
  {
   "cell_type": "markdown",
   "metadata": {},
   "source": [
    "### Step 1: For the bitstamp DataFrame, replace or drop all `NaN`, or missing, values in the DataFrame."
   ]
  },
  {
   "cell_type": "code",
   "execution_count": 8,
   "metadata": {},
   "outputs": [],
   "source": [
    "# For the bitstamp DataFrame, replace or drop all NaNs or missing values in the DataFrame\n",
    "# YOUR CODE HERE\n",
    "bitstamp_df=bitstamp_df.fillna(0)"
   ]
  },
  {
   "cell_type": "markdown",
   "metadata": {},
   "source": [
    "### Step 2: Use the `str.replace` function to remove the dollar signs ($) from the values in the Close column."
   ]
  },
  {
   "cell_type": "code",
   "execution_count": 9,
   "metadata": {},
   "outputs": [],
   "source": [
    "bitstamp_df=bitstamp_df.dropna()"
   ]
  },
  {
   "cell_type": "code",
   "execution_count": 10,
   "metadata": {},
   "outputs": [
    {
     "data": {
      "text/html": [
       "<div>\n",
       "<style scoped>\n",
       "    .dataframe tbody tr th:only-of-type {\n",
       "        vertical-align: middle;\n",
       "    }\n",
       "\n",
       "    .dataframe tbody tr th {\n",
       "        vertical-align: top;\n",
       "    }\n",
       "\n",
       "    .dataframe thead th {\n",
       "        text-align: right;\n",
       "    }\n",
       "</style>\n",
       "<table border=\"1\" class=\"dataframe\">\n",
       "  <thead>\n",
       "    <tr style=\"text-align: right;\">\n",
       "      <th></th>\n",
       "      <th>Open</th>\n",
       "      <th>High</th>\n",
       "      <th>Low</th>\n",
       "      <th>Close</th>\n",
       "      <th>BTC Volume</th>\n",
       "      <th>USD Volume</th>\n",
       "      <th>Weighted Price</th>\n",
       "    </tr>\n",
       "    <tr>\n",
       "      <th>Timestamp</th>\n",
       "      <th></th>\n",
       "      <th></th>\n",
       "      <th></th>\n",
       "      <th></th>\n",
       "      <th></th>\n",
       "      <th></th>\n",
       "      <th></th>\n",
       "    </tr>\n",
       "  </thead>\n",
       "  <tbody>\n",
       "    <tr>\n",
       "      <th>2015-12-31 19:01:00</th>\n",
       "      <td>430.89</td>\n",
       "      <td>430.89</td>\n",
       "      <td>430.89</td>\n",
       "      <td>$430.89</td>\n",
       "      <td>0.080631</td>\n",
       "      <td>34.743096</td>\n",
       "      <td>430.890000</td>\n",
       "    </tr>\n",
       "    <tr>\n",
       "      <th>2015-12-31 19:02:00</th>\n",
       "      <td>430.89</td>\n",
       "      <td>430.89</td>\n",
       "      <td>430.89</td>\n",
       "      <td>$430.89</td>\n",
       "      <td>0.143257</td>\n",
       "      <td>61.728095</td>\n",
       "      <td>430.890000</td>\n",
       "    </tr>\n",
       "    <tr>\n",
       "      <th>2015-12-31 19:03:00</th>\n",
       "      <td>0.00</td>\n",
       "      <td>0.00</td>\n",
       "      <td>0.00</td>\n",
       "      <td>$nan</td>\n",
       "      <td>0.000000</td>\n",
       "      <td>0.000000</td>\n",
       "      <td>0.000000</td>\n",
       "    </tr>\n",
       "    <tr>\n",
       "      <th>2015-12-31 19:04:00</th>\n",
       "      <td>430.19</td>\n",
       "      <td>431.06</td>\n",
       "      <td>430.19</td>\n",
       "      <td>$431.06</td>\n",
       "      <td>1.032161</td>\n",
       "      <td>444.627575</td>\n",
       "      <td>430.773269</td>\n",
       "    </tr>\n",
       "    <tr>\n",
       "      <th>2015-12-31 19:05:00</th>\n",
       "      <td>431.06</td>\n",
       "      <td>432.11</td>\n",
       "      <td>430.21</td>\n",
       "      <td>$430.54</td>\n",
       "      <td>5.558156</td>\n",
       "      <td>2397.461993</td>\n",
       "      <td>431.341280</td>\n",
       "    </tr>\n",
       "  </tbody>\n",
       "</table>\n",
       "</div>"
      ],
      "text/plain": [
       "                       Open    High     Low    Close  BTC Volume   USD Volume  \\\n",
       "Timestamp                                                                       \n",
       "2015-12-31 19:01:00  430.89  430.89  430.89  $430.89    0.080631    34.743096   \n",
       "2015-12-31 19:02:00  430.89  430.89  430.89  $430.89    0.143257    61.728095   \n",
       "2015-12-31 19:03:00    0.00    0.00    0.00     $nan    0.000000     0.000000   \n",
       "2015-12-31 19:04:00  430.19  431.06  430.19  $431.06    1.032161   444.627575   \n",
       "2015-12-31 19:05:00  431.06  432.11  430.21  $430.54    5.558156  2397.461993   \n",
       "\n",
       "                     Weighted Price  \n",
       "Timestamp                            \n",
       "2015-12-31 19:01:00      430.890000  \n",
       "2015-12-31 19:02:00      430.890000  \n",
       "2015-12-31 19:03:00        0.000000  \n",
       "2015-12-31 19:04:00      430.773269  \n",
       "2015-12-31 19:05:00      431.341280  "
      ]
     },
     "execution_count": 10,
     "metadata": {},
     "output_type": "execute_result"
    }
   ],
   "source": [
    "bitstamp_df.head()"
   ]
  },
  {
   "cell_type": "code",
   "execution_count": 11,
   "metadata": {},
   "outputs": [],
   "source": [
    "# Use the str.replace function to remove the dollar sign, $\n",
    "# YOUR CODE HERE\n",
    "bitstamp_df.loc[:,\"Close\"] = bitstamp_df.loc[:,\"Close\"].str.replace(\"$\", \"\")\n",
    "\n"
   ]
  },
  {
   "cell_type": "code",
   "execution_count": 12,
   "metadata": {},
   "outputs": [
    {
     "data": {
      "text/html": [
       "<div>\n",
       "<style scoped>\n",
       "    .dataframe tbody tr th:only-of-type {\n",
       "        vertical-align: middle;\n",
       "    }\n",
       "\n",
       "    .dataframe tbody tr th {\n",
       "        vertical-align: top;\n",
       "    }\n",
       "\n",
       "    .dataframe thead th {\n",
       "        text-align: right;\n",
       "    }\n",
       "</style>\n",
       "<table border=\"1\" class=\"dataframe\">\n",
       "  <thead>\n",
       "    <tr style=\"text-align: right;\">\n",
       "      <th></th>\n",
       "      <th>Open</th>\n",
       "      <th>High</th>\n",
       "      <th>Low</th>\n",
       "      <th>Close</th>\n",
       "      <th>BTC Volume</th>\n",
       "      <th>USD Volume</th>\n",
       "      <th>Weighted Price</th>\n",
       "    </tr>\n",
       "    <tr>\n",
       "      <th>Timestamp</th>\n",
       "      <th></th>\n",
       "      <th></th>\n",
       "      <th></th>\n",
       "      <th></th>\n",
       "      <th></th>\n",
       "      <th></th>\n",
       "      <th></th>\n",
       "    </tr>\n",
       "  </thead>\n",
       "  <tbody>\n",
       "    <tr>\n",
       "      <th>2015-12-31 19:01:00</th>\n",
       "      <td>430.89</td>\n",
       "      <td>430.89</td>\n",
       "      <td>430.89</td>\n",
       "      <td>430.89</td>\n",
       "      <td>0.080631</td>\n",
       "      <td>34.743096</td>\n",
       "      <td>430.890000</td>\n",
       "    </tr>\n",
       "    <tr>\n",
       "      <th>2015-12-31 19:02:00</th>\n",
       "      <td>430.89</td>\n",
       "      <td>430.89</td>\n",
       "      <td>430.89</td>\n",
       "      <td>430.89</td>\n",
       "      <td>0.143257</td>\n",
       "      <td>61.728095</td>\n",
       "      <td>430.890000</td>\n",
       "    </tr>\n",
       "    <tr>\n",
       "      <th>2015-12-31 19:03:00</th>\n",
       "      <td>0.00</td>\n",
       "      <td>0.00</td>\n",
       "      <td>0.00</td>\n",
       "      <td>nan</td>\n",
       "      <td>0.000000</td>\n",
       "      <td>0.000000</td>\n",
       "      <td>0.000000</td>\n",
       "    </tr>\n",
       "    <tr>\n",
       "      <th>2015-12-31 19:04:00</th>\n",
       "      <td>430.19</td>\n",
       "      <td>431.06</td>\n",
       "      <td>430.19</td>\n",
       "      <td>431.06</td>\n",
       "      <td>1.032161</td>\n",
       "      <td>444.627575</td>\n",
       "      <td>430.773269</td>\n",
       "    </tr>\n",
       "    <tr>\n",
       "      <th>2015-12-31 19:05:00</th>\n",
       "      <td>431.06</td>\n",
       "      <td>432.11</td>\n",
       "      <td>430.21</td>\n",
       "      <td>430.54</td>\n",
       "      <td>5.558156</td>\n",
       "      <td>2397.461993</td>\n",
       "      <td>431.341280</td>\n",
       "    </tr>\n",
       "    <tr>\n",
       "      <th>...</th>\n",
       "      <td>...</td>\n",
       "      <td>...</td>\n",
       "      <td>...</td>\n",
       "      <td>...</td>\n",
       "      <td>...</td>\n",
       "      <td>...</td>\n",
       "      <td>...</td>\n",
       "    </tr>\n",
       "    <tr>\n",
       "      <th>2019-01-07 23:55:00</th>\n",
       "      <td>3977.81</td>\n",
       "      <td>3977.81</td>\n",
       "      <td>3977.81</td>\n",
       "      <td>3977.81</td>\n",
       "      <td>0.008042</td>\n",
       "      <td>31.988752</td>\n",
       "      <td>3977.810000</td>\n",
       "    </tr>\n",
       "    <tr>\n",
       "      <th>2019-01-07 23:56:00</th>\n",
       "      <td>0.00</td>\n",
       "      <td>0.00</td>\n",
       "      <td>0.00</td>\n",
       "      <td>nan</td>\n",
       "      <td>0.000000</td>\n",
       "      <td>0.000000</td>\n",
       "      <td>0.000000</td>\n",
       "    </tr>\n",
       "    <tr>\n",
       "      <th>2019-01-07 23:57:00</th>\n",
       "      <td>3977.81</td>\n",
       "      <td>3984.40</td>\n",
       "      <td>3977.81</td>\n",
       "      <td>3984.4</td>\n",
       "      <td>8.907403</td>\n",
       "      <td>35464.870894</td>\n",
       "      <td>3981.504964</td>\n",
       "    </tr>\n",
       "    <tr>\n",
       "      <th>2019-01-07 23:58:00</th>\n",
       "      <td>3980.97</td>\n",
       "      <td>3980.97</td>\n",
       "      <td>3980.97</td>\n",
       "      <td>3980.97</td>\n",
       "      <td>1.615929</td>\n",
       "      <td>6432.963358</td>\n",
       "      <td>3980.970000</td>\n",
       "    </tr>\n",
       "    <tr>\n",
       "      <th>2019-01-07 23:59:00</th>\n",
       "      <td>3979.07</td>\n",
       "      <td>3983.52</td>\n",
       "      <td>3979.07</td>\n",
       "      <td>3983.52</td>\n",
       "      <td>1.920004</td>\n",
       "      <td>7643.937878</td>\n",
       "      <td>3981.209496</td>\n",
       "    </tr>\n",
       "  </tbody>\n",
       "</table>\n",
       "<p>1588619 rows × 7 columns</p>\n",
       "</div>"
      ],
      "text/plain": [
       "                        Open     High      Low    Close  BTC Volume  \\\n",
       "Timestamp                                                             \n",
       "2015-12-31 19:01:00   430.89   430.89   430.89   430.89    0.080631   \n",
       "2015-12-31 19:02:00   430.89   430.89   430.89   430.89    0.143257   \n",
       "2015-12-31 19:03:00     0.00     0.00     0.00      nan    0.000000   \n",
       "2015-12-31 19:04:00   430.19   431.06   430.19   431.06    1.032161   \n",
       "2015-12-31 19:05:00   431.06   432.11   430.21   430.54    5.558156   \n",
       "...                      ...      ...      ...      ...         ...   \n",
       "2019-01-07 23:55:00  3977.81  3977.81  3977.81  3977.81    0.008042   \n",
       "2019-01-07 23:56:00     0.00     0.00     0.00      nan    0.000000   \n",
       "2019-01-07 23:57:00  3977.81  3984.40  3977.81   3984.4    8.907403   \n",
       "2019-01-07 23:58:00  3980.97  3980.97  3980.97  3980.97    1.615929   \n",
       "2019-01-07 23:59:00  3979.07  3983.52  3979.07  3983.52    1.920004   \n",
       "\n",
       "                       USD Volume  Weighted Price  \n",
       "Timestamp                                          \n",
       "2015-12-31 19:01:00     34.743096      430.890000  \n",
       "2015-12-31 19:02:00     61.728095      430.890000  \n",
       "2015-12-31 19:03:00      0.000000        0.000000  \n",
       "2015-12-31 19:04:00    444.627575      430.773269  \n",
       "2015-12-31 19:05:00   2397.461993      431.341280  \n",
       "...                           ...             ...  \n",
       "2019-01-07 23:55:00     31.988752     3977.810000  \n",
       "2019-01-07 23:56:00      0.000000        0.000000  \n",
       "2019-01-07 23:57:00  35464.870894     3981.504964  \n",
       "2019-01-07 23:58:00   6432.963358     3980.970000  \n",
       "2019-01-07 23:59:00   7643.937878     3981.209496  \n",
       "\n",
       "[1588619 rows x 7 columns]"
      ]
     },
     "execution_count": 12,
     "metadata": {},
     "output_type": "execute_result"
    }
   ],
   "source": [
    "bitstamp_df.dropna()"
   ]
  },
  {
   "cell_type": "code",
   "execution_count": 13,
   "metadata": {},
   "outputs": [
    {
     "data": {
      "text/html": [
       "<div>\n",
       "<style scoped>\n",
       "    .dataframe tbody tr th:only-of-type {\n",
       "        vertical-align: middle;\n",
       "    }\n",
       "\n",
       "    .dataframe tbody tr th {\n",
       "        vertical-align: top;\n",
       "    }\n",
       "\n",
       "    .dataframe thead th {\n",
       "        text-align: right;\n",
       "    }\n",
       "</style>\n",
       "<table border=\"1\" class=\"dataframe\">\n",
       "  <thead>\n",
       "    <tr style=\"text-align: right;\">\n",
       "      <th></th>\n",
       "      <th>Open</th>\n",
       "      <th>High</th>\n",
       "      <th>Low</th>\n",
       "      <th>Close</th>\n",
       "      <th>BTC Volume</th>\n",
       "      <th>USD Volume</th>\n",
       "      <th>Weighted Price</th>\n",
       "    </tr>\n",
       "    <tr>\n",
       "      <th>Timestamp</th>\n",
       "      <th></th>\n",
       "      <th></th>\n",
       "      <th></th>\n",
       "      <th></th>\n",
       "      <th></th>\n",
       "      <th></th>\n",
       "      <th></th>\n",
       "    </tr>\n",
       "  </thead>\n",
       "  <tbody>\n",
       "    <tr>\n",
       "      <th>2015-12-31 19:01:00</th>\n",
       "      <td>430.89</td>\n",
       "      <td>430.89</td>\n",
       "      <td>430.89</td>\n",
       "      <td>430.89</td>\n",
       "      <td>0.080631</td>\n",
       "      <td>34.743096</td>\n",
       "      <td>430.890000</td>\n",
       "    </tr>\n",
       "    <tr>\n",
       "      <th>2015-12-31 19:02:00</th>\n",
       "      <td>430.89</td>\n",
       "      <td>430.89</td>\n",
       "      <td>430.89</td>\n",
       "      <td>430.89</td>\n",
       "      <td>0.143257</td>\n",
       "      <td>61.728095</td>\n",
       "      <td>430.890000</td>\n",
       "    </tr>\n",
       "    <tr>\n",
       "      <th>2015-12-31 19:03:00</th>\n",
       "      <td>0.00</td>\n",
       "      <td>0.00</td>\n",
       "      <td>0.00</td>\n",
       "      <td>nan</td>\n",
       "      <td>0.000000</td>\n",
       "      <td>0.000000</td>\n",
       "      <td>0.000000</td>\n",
       "    </tr>\n",
       "    <tr>\n",
       "      <th>2015-12-31 19:04:00</th>\n",
       "      <td>430.19</td>\n",
       "      <td>431.06</td>\n",
       "      <td>430.19</td>\n",
       "      <td>431.06</td>\n",
       "      <td>1.032161</td>\n",
       "      <td>444.627575</td>\n",
       "      <td>430.773269</td>\n",
       "    </tr>\n",
       "    <tr>\n",
       "      <th>2015-12-31 19:05:00</th>\n",
       "      <td>431.06</td>\n",
       "      <td>432.11</td>\n",
       "      <td>430.21</td>\n",
       "      <td>430.54</td>\n",
       "      <td>5.558156</td>\n",
       "      <td>2397.461993</td>\n",
       "      <td>431.341280</td>\n",
       "    </tr>\n",
       "  </tbody>\n",
       "</table>\n",
       "</div>"
      ],
      "text/plain": [
       "                       Open    High     Low   Close  BTC Volume   USD Volume  \\\n",
       "Timestamp                                                                      \n",
       "2015-12-31 19:01:00  430.89  430.89  430.89  430.89    0.080631    34.743096   \n",
       "2015-12-31 19:02:00  430.89  430.89  430.89  430.89    0.143257    61.728095   \n",
       "2015-12-31 19:03:00    0.00    0.00    0.00     nan    0.000000     0.000000   \n",
       "2015-12-31 19:04:00  430.19  431.06  430.19  431.06    1.032161   444.627575   \n",
       "2015-12-31 19:05:00  431.06  432.11  430.21  430.54    5.558156  2397.461993   \n",
       "\n",
       "                     Weighted Price  \n",
       "Timestamp                            \n",
       "2015-12-31 19:01:00      430.890000  \n",
       "2015-12-31 19:02:00      430.890000  \n",
       "2015-12-31 19:03:00        0.000000  \n",
       "2015-12-31 19:04:00      430.773269  \n",
       "2015-12-31 19:05:00      431.341280  "
      ]
     },
     "execution_count": 13,
     "metadata": {},
     "output_type": "execute_result"
    }
   ],
   "source": [
    "bitstamp_df.head()"
   ]
  },
  {
   "cell_type": "markdown",
   "metadata": {},
   "source": [
    "### Step 3: Convert the data type of the Close column to a `float`."
   ]
  },
  {
   "cell_type": "code",
   "execution_count": 14,
   "metadata": {},
   "outputs": [
    {
     "data": {
      "text/plain": [
       "Open              float64\n",
       "High              float64\n",
       "Low               float64\n",
       "Close             float64\n",
       "BTC Volume        float64\n",
       "USD Volume        float64\n",
       "Weighted Price    float64\n",
       "dtype: object"
      ]
     },
     "execution_count": 14,
     "metadata": {},
     "output_type": "execute_result"
    }
   ],
   "source": [
    "# Convert the Close data type to a float\n",
    "# YOUR CODE HERE\n",
    "bitstamp_df.loc[:,\"Close\"]=bitstamp_df.loc[:,\"Close\"].astype(\"float\")\n",
    "bitstamp_df.dtypes"
   ]
  },
  {
   "cell_type": "markdown",
   "metadata": {},
   "source": [
    "### Step 4: Review the data for duplicated values, and drop them if necessary."
   ]
  },
  {
   "cell_type": "code",
   "execution_count": 15,
   "metadata": {},
   "outputs": [
    {
     "data": {
      "text/plain": [
       "240846"
      ]
     },
     "execution_count": 15,
     "metadata": {},
     "output_type": "execute_result"
    }
   ],
   "source": [
    "# Review the data for duplicate values, and drop them if necessary\n",
    "# YOUR CODE HERE\n",
    "#\n",
    "bitstamp_df.duplicated().sum()\n"
   ]
  },
  {
   "cell_type": "code",
   "execution_count": 16,
   "metadata": {},
   "outputs": [],
   "source": [
    "bitstamp_df=bitstamp_df.drop_duplicates()"
   ]
  },
  {
   "cell_type": "code",
   "execution_count": 17,
   "metadata": {},
   "outputs": [
    {
     "data": {
      "text/plain": [
       "0"
      ]
     },
     "execution_count": 17,
     "metadata": {},
     "output_type": "execute_result"
    }
   ],
   "source": [
    "bitstamp_df.duplicated().sum()"
   ]
  },
  {
   "cell_type": "markdown",
   "metadata": {},
   "source": [
    "### Step 5: Repeat Steps 1–4 for the coinbase DataFrame."
   ]
  },
  {
   "cell_type": "code",
   "execution_count": 18,
   "metadata": {},
   "outputs": [],
   "source": [
    "# Repeat Steps 1–4 for the coinbase DataFrame\n",
    "# YOUR CODE HERE\n",
    "# For the bitstamp DataFrame, replace or drop all NaNs or missing values in the DataFrame\n",
    "# YOUR CODE HERE\n",
    "coinbase_df=coinbase_df.fillna(0)"
   ]
  },
  {
   "cell_type": "code",
   "execution_count": 19,
   "metadata": {},
   "outputs": [
    {
     "data": {
      "text/html": [
       "<div>\n",
       "<style scoped>\n",
       "    .dataframe tbody tr th:only-of-type {\n",
       "        vertical-align: middle;\n",
       "    }\n",
       "\n",
       "    .dataframe tbody tr th {\n",
       "        vertical-align: top;\n",
       "    }\n",
       "\n",
       "    .dataframe thead th {\n",
       "        text-align: right;\n",
       "    }\n",
       "</style>\n",
       "<table border=\"1\" class=\"dataframe\">\n",
       "  <thead>\n",
       "    <tr style=\"text-align: right;\">\n",
       "      <th></th>\n",
       "      <th>Open</th>\n",
       "      <th>High</th>\n",
       "      <th>Low</th>\n",
       "      <th>Close</th>\n",
       "      <th>BTC Volume</th>\n",
       "      <th>USD Volume</th>\n",
       "      <th>Weighted Price</th>\n",
       "    </tr>\n",
       "    <tr>\n",
       "      <th>Timestamp</th>\n",
       "      <th></th>\n",
       "      <th></th>\n",
       "      <th></th>\n",
       "      <th></th>\n",
       "      <th></th>\n",
       "      <th></th>\n",
       "      <th></th>\n",
       "    </tr>\n",
       "  </thead>\n",
       "  <tbody>\n",
       "    <tr>\n",
       "      <th>2015-12-31 19:01:00</th>\n",
       "      <td>430.38</td>\n",
       "      <td>430.40</td>\n",
       "      <td>430.38</td>\n",
       "      <td>430.4</td>\n",
       "      <td>0.947800</td>\n",
       "      <td>407.924370</td>\n",
       "      <td>430.390768</td>\n",
       "    </tr>\n",
       "    <tr>\n",
       "      <th>2015-12-31 19:02:00</th>\n",
       "      <td>430.40</td>\n",
       "      <td>430.40</td>\n",
       "      <td>430.40</td>\n",
       "      <td>430.4</td>\n",
       "      <td>1.633400</td>\n",
       "      <td>703.015360</td>\n",
       "      <td>430.400000</td>\n",
       "    </tr>\n",
       "    <tr>\n",
       "      <th>2015-12-31 19:03:00</th>\n",
       "      <td>430.39</td>\n",
       "      <td>430.39</td>\n",
       "      <td>430.36</td>\n",
       "      <td>430.36</td>\n",
       "      <td>12.566300</td>\n",
       "      <td>5408.313368</td>\n",
       "      <td>430.382322</td>\n",
       "    </tr>\n",
       "    <tr>\n",
       "      <th>2015-12-31 19:04:00</th>\n",
       "      <td>430.39</td>\n",
       "      <td>430.39</td>\n",
       "      <td>430.39</td>\n",
       "      <td>430.39</td>\n",
       "      <td>1.953000</td>\n",
       "      <td>840.551670</td>\n",
       "      <td>430.390000</td>\n",
       "    </tr>\n",
       "    <tr>\n",
       "      <th>2015-12-31 19:05:00</th>\n",
       "      <td>430.40</td>\n",
       "      <td>430.96</td>\n",
       "      <td>430.40</td>\n",
       "      <td>430.96</td>\n",
       "      <td>12.114161</td>\n",
       "      <td>5216.297064</td>\n",
       "      <td>430.595001</td>\n",
       "    </tr>\n",
       "    <tr>\n",
       "      <th>...</th>\n",
       "      <td>...</td>\n",
       "      <td>...</td>\n",
       "      <td>...</td>\n",
       "      <td>...</td>\n",
       "      <td>...</td>\n",
       "      <td>...</td>\n",
       "      <td>...</td>\n",
       "    </tr>\n",
       "    <tr>\n",
       "      <th>2019-01-07 17:02:00</th>\n",
       "      <td>4006.01</td>\n",
       "      <td>4006.57</td>\n",
       "      <td>4006.00</td>\n",
       "      <td>4006.01</td>\n",
       "      <td>3.382954</td>\n",
       "      <td>13553.433078</td>\n",
       "      <td>4006.390309</td>\n",
       "    </tr>\n",
       "    <tr>\n",
       "      <th>2019-01-07 17:03:00</th>\n",
       "      <td>4006.01</td>\n",
       "      <td>4006.57</td>\n",
       "      <td>4006.00</td>\n",
       "      <td>4006.01</td>\n",
       "      <td>0.902164</td>\n",
       "      <td>3614.083169</td>\n",
       "      <td>4006.017233</td>\n",
       "    </tr>\n",
       "    <tr>\n",
       "      <th>2019-01-07 17:04:00</th>\n",
       "      <td>4006.01</td>\n",
       "      <td>4006.01</td>\n",
       "      <td>4006.00</td>\n",
       "      <td>4006.01</td>\n",
       "      <td>1.192123</td>\n",
       "      <td>4775.647308</td>\n",
       "      <td>4006.003635</td>\n",
       "    </tr>\n",
       "    <tr>\n",
       "      <th>2019-01-07 17:05:00</th>\n",
       "      <td>4006.01</td>\n",
       "      <td>4006.01</td>\n",
       "      <td>4005.50</td>\n",
       "      <td>4005.5</td>\n",
       "      <td>2.699700</td>\n",
       "      <td>10814.241898</td>\n",
       "      <td>4005.719991</td>\n",
       "    </tr>\n",
       "    <tr>\n",
       "      <th>2019-01-07 17:06:00</th>\n",
       "      <td>4005.51</td>\n",
       "      <td>4006.01</td>\n",
       "      <td>4005.51</td>\n",
       "      <td>4005.99</td>\n",
       "      <td>1.752778</td>\n",
       "      <td>7021.183546</td>\n",
       "      <td>4005.745614</td>\n",
       "    </tr>\n",
       "  </tbody>\n",
       "</table>\n",
       "<p>1588206 rows × 7 columns</p>\n",
       "</div>"
      ],
      "text/plain": [
       "                        Open     High      Low    Close  BTC Volume  \\\n",
       "Timestamp                                                             \n",
       "2015-12-31 19:01:00   430.38   430.40   430.38    430.4    0.947800   \n",
       "2015-12-31 19:02:00   430.40   430.40   430.40    430.4    1.633400   \n",
       "2015-12-31 19:03:00   430.39   430.39   430.36   430.36   12.566300   \n",
       "2015-12-31 19:04:00   430.39   430.39   430.39   430.39    1.953000   \n",
       "2015-12-31 19:05:00   430.40   430.96   430.40   430.96   12.114161   \n",
       "...                      ...      ...      ...      ...         ...   \n",
       "2019-01-07 17:02:00  4006.01  4006.57  4006.00  4006.01    3.382954   \n",
       "2019-01-07 17:03:00  4006.01  4006.57  4006.00  4006.01    0.902164   \n",
       "2019-01-07 17:04:00  4006.01  4006.01  4006.00  4006.01    1.192123   \n",
       "2019-01-07 17:05:00  4006.01  4006.01  4005.50   4005.5    2.699700   \n",
       "2019-01-07 17:06:00  4005.51  4006.01  4005.51  4005.99    1.752778   \n",
       "\n",
       "                       USD Volume  Weighted Price  \n",
       "Timestamp                                          \n",
       "2015-12-31 19:01:00    407.924370      430.390768  \n",
       "2015-12-31 19:02:00    703.015360      430.400000  \n",
       "2015-12-31 19:03:00   5408.313368      430.382322  \n",
       "2015-12-31 19:04:00    840.551670      430.390000  \n",
       "2015-12-31 19:05:00   5216.297064      430.595001  \n",
       "...                           ...             ...  \n",
       "2019-01-07 17:02:00  13553.433078     4006.390309  \n",
       "2019-01-07 17:03:00   3614.083169     4006.017233  \n",
       "2019-01-07 17:04:00   4775.647308     4006.003635  \n",
       "2019-01-07 17:05:00  10814.241898     4005.719991  \n",
       "2019-01-07 17:06:00   7021.183546     4005.745614  \n",
       "\n",
       "[1588206 rows x 7 columns]"
      ]
     },
     "execution_count": 19,
     "metadata": {},
     "output_type": "execute_result"
    }
   ],
   "source": [
    "# Use the str.replace function to remove the dollar sign, $\n",
    "# YOUR CODE HERE\n",
    "coinbase_df.loc[:,\"Close\"]=coinbase_df.loc[:,\"Close\"].str.replace(\"$\",\"\")\n",
    "coinbase_df.dropna()"
   ]
  },
  {
   "cell_type": "code",
   "execution_count": 20,
   "metadata": {},
   "outputs": [
    {
     "data": {
      "text/html": [
       "<div>\n",
       "<style scoped>\n",
       "    .dataframe tbody tr th:only-of-type {\n",
       "        vertical-align: middle;\n",
       "    }\n",
       "\n",
       "    .dataframe tbody tr th {\n",
       "        vertical-align: top;\n",
       "    }\n",
       "\n",
       "    .dataframe thead th {\n",
       "        text-align: right;\n",
       "    }\n",
       "</style>\n",
       "<table border=\"1\" class=\"dataframe\">\n",
       "  <thead>\n",
       "    <tr style=\"text-align: right;\">\n",
       "      <th></th>\n",
       "      <th>Open</th>\n",
       "      <th>High</th>\n",
       "      <th>Low</th>\n",
       "      <th>Close</th>\n",
       "      <th>BTC Volume</th>\n",
       "      <th>USD Volume</th>\n",
       "      <th>Weighted Price</th>\n",
       "    </tr>\n",
       "    <tr>\n",
       "      <th>Timestamp</th>\n",
       "      <th></th>\n",
       "      <th></th>\n",
       "      <th></th>\n",
       "      <th></th>\n",
       "      <th></th>\n",
       "      <th></th>\n",
       "      <th></th>\n",
       "    </tr>\n",
       "  </thead>\n",
       "  <tbody>\n",
       "    <tr>\n",
       "      <th>2015-12-31 19:01:00</th>\n",
       "      <td>430.38</td>\n",
       "      <td>430.40</td>\n",
       "      <td>430.38</td>\n",
       "      <td>430.4</td>\n",
       "      <td>0.947800</td>\n",
       "      <td>407.924370</td>\n",
       "      <td>430.390768</td>\n",
       "    </tr>\n",
       "    <tr>\n",
       "      <th>2015-12-31 19:02:00</th>\n",
       "      <td>430.40</td>\n",
       "      <td>430.40</td>\n",
       "      <td>430.40</td>\n",
       "      <td>430.4</td>\n",
       "      <td>1.633400</td>\n",
       "      <td>703.015360</td>\n",
       "      <td>430.400000</td>\n",
       "    </tr>\n",
       "    <tr>\n",
       "      <th>2015-12-31 19:03:00</th>\n",
       "      <td>430.39</td>\n",
       "      <td>430.39</td>\n",
       "      <td>430.36</td>\n",
       "      <td>430.36</td>\n",
       "      <td>12.566300</td>\n",
       "      <td>5408.313368</td>\n",
       "      <td>430.382322</td>\n",
       "    </tr>\n",
       "    <tr>\n",
       "      <th>2015-12-31 19:04:00</th>\n",
       "      <td>430.39</td>\n",
       "      <td>430.39</td>\n",
       "      <td>430.39</td>\n",
       "      <td>430.39</td>\n",
       "      <td>1.953000</td>\n",
       "      <td>840.551670</td>\n",
       "      <td>430.390000</td>\n",
       "    </tr>\n",
       "    <tr>\n",
       "      <th>2015-12-31 19:05:00</th>\n",
       "      <td>430.40</td>\n",
       "      <td>430.96</td>\n",
       "      <td>430.40</td>\n",
       "      <td>430.96</td>\n",
       "      <td>12.114161</td>\n",
       "      <td>5216.297064</td>\n",
       "      <td>430.595001</td>\n",
       "    </tr>\n",
       "  </tbody>\n",
       "</table>\n",
       "</div>"
      ],
      "text/plain": [
       "                       Open    High     Low   Close  BTC Volume   USD Volume  \\\n",
       "Timestamp                                                                      \n",
       "2015-12-31 19:01:00  430.38  430.40  430.38   430.4    0.947800   407.924370   \n",
       "2015-12-31 19:02:00  430.40  430.40  430.40   430.4    1.633400   703.015360   \n",
       "2015-12-31 19:03:00  430.39  430.39  430.36  430.36   12.566300  5408.313368   \n",
       "2015-12-31 19:04:00  430.39  430.39  430.39  430.39    1.953000   840.551670   \n",
       "2015-12-31 19:05:00  430.40  430.96  430.40  430.96   12.114161  5216.297064   \n",
       "\n",
       "                     Weighted Price  \n",
       "Timestamp                            \n",
       "2015-12-31 19:01:00      430.390768  \n",
       "2015-12-31 19:02:00      430.400000  \n",
       "2015-12-31 19:03:00      430.382322  \n",
       "2015-12-31 19:04:00      430.390000  \n",
       "2015-12-31 19:05:00      430.595001  "
      ]
     },
     "execution_count": 20,
     "metadata": {},
     "output_type": "execute_result"
    }
   ],
   "source": [
    "coinbase_df.head()"
   ]
  },
  {
   "cell_type": "code",
   "execution_count": 21,
   "metadata": {},
   "outputs": [
    {
     "data": {
      "text/plain": [
       "Open              float64\n",
       "High              float64\n",
       "Low               float64\n",
       "Close              object\n",
       "BTC Volume        float64\n",
       "USD Volume        float64\n",
       "Weighted Price    float64\n",
       "dtype: object"
      ]
     },
     "execution_count": 21,
     "metadata": {},
     "output_type": "execute_result"
    }
   ],
   "source": [
    "coinbase_df.dtypes"
   ]
  },
  {
   "cell_type": "code",
   "execution_count": 22,
   "metadata": {},
   "outputs": [
    {
     "data": {
      "text/plain": [
       "Open              float64\n",
       "High              float64\n",
       "Low               float64\n",
       "Close             float64\n",
       "BTC Volume        float64\n",
       "USD Volume        float64\n",
       "Weighted Price    float64\n",
       "dtype: object"
      ]
     },
     "execution_count": 22,
     "metadata": {},
     "output_type": "execute_result"
    }
   ],
   "source": [
    "# Convert the Close data type to a float\n",
    "# YOUR CODE HERE\n",
    "coinbase_df.loc[:,\"Close\"]=coinbase_df.loc[:,\"Close\"].astype(\"float\")\n",
    "coinbase_df.dtypes"
   ]
  },
  {
   "cell_type": "code",
   "execution_count": 23,
   "metadata": {},
   "outputs": [
    {
     "data": {
      "text/plain": [
       "38682"
      ]
     },
     "execution_count": 23,
     "metadata": {},
     "output_type": "execute_result"
    }
   ],
   "source": [
    "# Review the data for duplicate values, and drop them if necessary\n",
    "# YOUR CODE HERE\n",
    "coinbase_df.duplicated().sum()"
   ]
  },
  {
   "cell_type": "code",
   "execution_count": 24,
   "metadata": {},
   "outputs": [],
   "source": [
    "coinbase_df=coinbase_df.drop_duplicates()"
   ]
  },
  {
   "cell_type": "code",
   "execution_count": 25,
   "metadata": {},
   "outputs": [
    {
     "data": {
      "text/plain": [
       "0"
      ]
     },
     "execution_count": 25,
     "metadata": {},
     "output_type": "execute_result"
    }
   ],
   "source": [
    "coinbase_df.duplicated().sum()"
   ]
  },
  {
   "cell_type": "markdown",
   "metadata": {},
   "source": [
    "## Analyze the Data\n",
    "\n",
    "Your analysis consists of the following steps:\n",
    "\n",
    "Your analysis consists of the following tasks: \n",
    "\n",
    "1. Choose the columns of data on which to focus your analysis.\n",
    "\n",
    "2. Get the summary statistics and plot the data.\n",
    "\n",
    "3. Focus your analysis on specific dates.\n",
    "\n",
    "4. Calculate the arbitrage profits."
   ]
  },
  {
   "cell_type": "markdown",
   "metadata": {},
   "source": [
    "### Step 1: Choose columns of data on which to focus your analysis.\n",
    "\n",
    "Select the data you want to analyze. Use `loc` or `iloc` to select the following columns of data for both the bitstamp and coinbase DataFrames:\n",
    "\n",
    "* Timestamp (index)\n",
    "\n",
    "* Close\n"
   ]
  },
  {
   "cell_type": "code",
   "execution_count": 26,
   "metadata": {},
   "outputs": [],
   "source": [
    "# Use loc or iloc to select `Timestamp (the index)` and `Close` from bitstamp DataFrame\n",
    "bitstamp_sliced=bitstamp_df.loc[:, [\"Close\"]]"
   ]
  },
  {
   "cell_type": "code",
   "execution_count": 27,
   "metadata": {},
   "outputs": [
    {
     "data": {
      "text/html": [
       "<div>\n",
       "<style scoped>\n",
       "    .dataframe tbody tr th:only-of-type {\n",
       "        vertical-align: middle;\n",
       "    }\n",
       "\n",
       "    .dataframe tbody tr th {\n",
       "        vertical-align: top;\n",
       "    }\n",
       "\n",
       "    .dataframe thead th {\n",
       "        text-align: right;\n",
       "    }\n",
       "</style>\n",
       "<table border=\"1\" class=\"dataframe\">\n",
       "  <thead>\n",
       "    <tr style=\"text-align: right;\">\n",
       "      <th></th>\n",
       "      <th>Close</th>\n",
       "    </tr>\n",
       "    <tr>\n",
       "      <th>Timestamp</th>\n",
       "      <th></th>\n",
       "    </tr>\n",
       "  </thead>\n",
       "  <tbody>\n",
       "    <tr>\n",
       "      <th>2015-12-31 19:01:00</th>\n",
       "      <td>430.89</td>\n",
       "    </tr>\n",
       "    <tr>\n",
       "      <th>2015-12-31 19:02:00</th>\n",
       "      <td>430.89</td>\n",
       "    </tr>\n",
       "    <tr>\n",
       "      <th>2015-12-31 19:03:00</th>\n",
       "      <td>NaN</td>\n",
       "    </tr>\n",
       "    <tr>\n",
       "      <th>2015-12-31 19:04:00</th>\n",
       "      <td>431.06</td>\n",
       "    </tr>\n",
       "    <tr>\n",
       "      <th>2015-12-31 19:05:00</th>\n",
       "      <td>430.54</td>\n",
       "    </tr>\n",
       "  </tbody>\n",
       "</table>\n",
       "</div>"
      ],
      "text/plain": [
       "                      Close\n",
       "Timestamp                  \n",
       "2015-12-31 19:01:00  430.89\n",
       "2015-12-31 19:02:00  430.89\n",
       "2015-12-31 19:03:00     NaN\n",
       "2015-12-31 19:04:00  431.06\n",
       "2015-12-31 19:05:00  430.54"
      ]
     },
     "execution_count": 27,
     "metadata": {},
     "output_type": "execute_result"
    }
   ],
   "source": [
    "# Review the first five rows of the DataFrame\n",
    "# YOUR CODE HERE\n",
    "bitstamp_sliced.head()"
   ]
  },
  {
   "cell_type": "code",
   "execution_count": 28,
   "metadata": {},
   "outputs": [
    {
     "data": {
      "text/html": [
       "<div>\n",
       "<style scoped>\n",
       "    .dataframe tbody tr th:only-of-type {\n",
       "        vertical-align: middle;\n",
       "    }\n",
       "\n",
       "    .dataframe tbody tr th {\n",
       "        vertical-align: top;\n",
       "    }\n",
       "\n",
       "    .dataframe thead th {\n",
       "        text-align: right;\n",
       "    }\n",
       "</style>\n",
       "<table border=\"1\" class=\"dataframe\">\n",
       "  <thead>\n",
       "    <tr style=\"text-align: right;\">\n",
       "      <th></th>\n",
       "      <th>Close</th>\n",
       "    </tr>\n",
       "    <tr>\n",
       "      <th>Timestamp</th>\n",
       "      <th></th>\n",
       "    </tr>\n",
       "  </thead>\n",
       "  <tbody>\n",
       "    <tr>\n",
       "      <th>2015-12-31 19:01:00</th>\n",
       "      <td>430.40</td>\n",
       "    </tr>\n",
       "    <tr>\n",
       "      <th>2015-12-31 19:02:00</th>\n",
       "      <td>430.40</td>\n",
       "    </tr>\n",
       "    <tr>\n",
       "      <th>2015-12-31 19:03:00</th>\n",
       "      <td>430.36</td>\n",
       "    </tr>\n",
       "    <tr>\n",
       "      <th>2015-12-31 19:04:00</th>\n",
       "      <td>430.39</td>\n",
       "    </tr>\n",
       "    <tr>\n",
       "      <th>2015-12-31 19:05:00</th>\n",
       "      <td>430.96</td>\n",
       "    </tr>\n",
       "  </tbody>\n",
       "</table>\n",
       "</div>"
      ],
      "text/plain": [
       "                      Close\n",
       "Timestamp                  \n",
       "2015-12-31 19:01:00  430.40\n",
       "2015-12-31 19:02:00  430.40\n",
       "2015-12-31 19:03:00  430.36\n",
       "2015-12-31 19:04:00  430.39\n",
       "2015-12-31 19:05:00  430.96"
      ]
     },
     "execution_count": 28,
     "metadata": {},
     "output_type": "execute_result"
    }
   ],
   "source": [
    "# Use loc or iloc to select `Timestamp (the index)` and `Close` from coinbase DataFrame\n",
    "coinbase_sliced=coinbase_df.loc[:, [\"Close\"]]\n",
    "# Review the first five rows of the DataFrame\n",
    "# YOUR CODE HERE\n",
    "coinbase_sliced.head()"
   ]
  },
  {
   "cell_type": "markdown",
   "metadata": {},
   "source": [
    "### Step 2: Get summary statistics and plot the data.\n",
    "\n",
    "Sort through the time series data associated with the bitstamp and coinbase DataFrames to identify potential arbitrage opportunities. To do so, complete the following steps:\n",
    "\n",
    "1. Generate the summary statistics for each DataFrame by using the `describe` function.\n",
    "\n",
    "2. For each DataFrame, create a line plot for the full period of time in the dataset. Be sure to tailor the figure size, title, and color to each visualization.\n",
    "\n",
    "3. In one plot, overlay the visualizations that you created in Step 2 for bitstamp and coinbase. Be sure to adjust the legend and title for this new visualization.\n",
    "\n",
    "4. Using the `loc` and `plot` functions, plot the price action of the assets on each exchange for different dates and times. Your goal is to evaluate how the spread between the two exchanges changed across the time period that the datasets define. Did the degree of spread change as time progressed?"
   ]
  },
  {
   "cell_type": "code",
   "execution_count": 29,
   "metadata": {},
   "outputs": [
    {
     "data": {
      "text/html": [
       "<div>\n",
       "<style scoped>\n",
       "    .dataframe tbody tr th:only-of-type {\n",
       "        vertical-align: middle;\n",
       "    }\n",
       "\n",
       "    .dataframe tbody tr th {\n",
       "        vertical-align: top;\n",
       "    }\n",
       "\n",
       "    .dataframe thead th {\n",
       "        text-align: right;\n",
       "    }\n",
       "</style>\n",
       "<table border=\"1\" class=\"dataframe\">\n",
       "  <thead>\n",
       "    <tr style=\"text-align: right;\">\n",
       "      <th></th>\n",
       "      <th>Open</th>\n",
       "      <th>High</th>\n",
       "      <th>Low</th>\n",
       "      <th>Close</th>\n",
       "      <th>BTC Volume</th>\n",
       "      <th>USD Volume</th>\n",
       "      <th>Weighted Price</th>\n",
       "    </tr>\n",
       "  </thead>\n",
       "  <tbody>\n",
       "    <tr>\n",
       "      <th>count</th>\n",
       "      <td>1.347773e+06</td>\n",
       "      <td>1.347773e+06</td>\n",
       "      <td>1.347773e+06</td>\n",
       "      <td>1.347772e+06</td>\n",
       "      <td>1.347773e+06</td>\n",
       "      <td>1.347773e+06</td>\n",
       "      <td>1.347773e+06</td>\n",
       "    </tr>\n",
       "    <tr>\n",
       "      <th>mean</th>\n",
       "      <td>4.503956e+03</td>\n",
       "      <td>4.507639e+03</td>\n",
       "      <td>4.499783e+03</td>\n",
       "      <td>4.503924e+03</td>\n",
       "      <td>7.911504e+00</td>\n",
       "      <td>3.991323e+04</td>\n",
       "      <td>4.503675e+03</td>\n",
       "    </tr>\n",
       "    <tr>\n",
       "      <th>std</th>\n",
       "      <td>3.956188e+03</td>\n",
       "      <td>3.960719e+03</td>\n",
       "      <td>3.950903e+03</td>\n",
       "      <td>3.956149e+03</td>\n",
       "      <td>1.986798e+01</td>\n",
       "      <td>1.171925e+05</td>\n",
       "      <td>3.955833e+03</td>\n",
       "    </tr>\n",
       "    <tr>\n",
       "      <th>min</th>\n",
       "      <td>0.000000e+00</td>\n",
       "      <td>0.000000e+00</td>\n",
       "      <td>0.000000e+00</td>\n",
       "      <td>1.500000e+00</td>\n",
       "      <td>0.000000e+00</td>\n",
       "      <td>0.000000e+00</td>\n",
       "      <td>0.000000e+00</td>\n",
       "    </tr>\n",
       "    <tr>\n",
       "      <th>25%</th>\n",
       "      <td>7.889100e+02</td>\n",
       "      <td>7.889900e+02</td>\n",
       "      <td>7.888000e+02</td>\n",
       "      <td>7.888900e+02</td>\n",
       "      <td>3.833162e-01</td>\n",
       "      <td>6.268447e+02</td>\n",
       "      <td>7.888853e+02</td>\n",
       "    </tr>\n",
       "    <tr>\n",
       "      <th>50%</th>\n",
       "      <td>3.788730e+03</td>\n",
       "      <td>3.791430e+03</td>\n",
       "      <td>3.786030e+03</td>\n",
       "      <td>3.788990e+03</td>\n",
       "      <td>2.013210e+00</td>\n",
       "      <td>5.779329e+03</td>\n",
       "      <td>3.788658e+03</td>\n",
       "    </tr>\n",
       "    <tr>\n",
       "      <th>75%</th>\n",
       "      <td>6.929360e+03</td>\n",
       "      <td>6.933480e+03</td>\n",
       "      <td>6.924840e+03</td>\n",
       "      <td>6.929443e+03</td>\n",
       "      <td>7.462737e+00</td>\n",
       "      <td>3.017328e+04</td>\n",
       "      <td>6.929206e+03</td>\n",
       "    </tr>\n",
       "    <tr>\n",
       "      <th>max</th>\n",
       "      <td>1.966576e+04</td>\n",
       "      <td>1.966600e+04</td>\n",
       "      <td>1.964996e+04</td>\n",
       "      <td>1.966575e+04</td>\n",
       "      <td>1.616060e+03</td>\n",
       "      <td>5.483271e+06</td>\n",
       "      <td>1.966330e+04</td>\n",
       "    </tr>\n",
       "  </tbody>\n",
       "</table>\n",
       "</div>"
      ],
      "text/plain": [
       "               Open          High           Low         Close    BTC Volume  \\\n",
       "count  1.347773e+06  1.347773e+06  1.347773e+06  1.347772e+06  1.347773e+06   \n",
       "mean   4.503956e+03  4.507639e+03  4.499783e+03  4.503924e+03  7.911504e+00   \n",
       "std    3.956188e+03  3.960719e+03  3.950903e+03  3.956149e+03  1.986798e+01   \n",
       "min    0.000000e+00  0.000000e+00  0.000000e+00  1.500000e+00  0.000000e+00   \n",
       "25%    7.889100e+02  7.889900e+02  7.888000e+02  7.888900e+02  3.833162e-01   \n",
       "50%    3.788730e+03  3.791430e+03  3.786030e+03  3.788990e+03  2.013210e+00   \n",
       "75%    6.929360e+03  6.933480e+03  6.924840e+03  6.929443e+03  7.462737e+00   \n",
       "max    1.966576e+04  1.966600e+04  1.964996e+04  1.966575e+04  1.616060e+03   \n",
       "\n",
       "         USD Volume  Weighted Price  \n",
       "count  1.347773e+06    1.347773e+06  \n",
       "mean   3.991323e+04    4.503675e+03  \n",
       "std    1.171925e+05    3.955833e+03  \n",
       "min    0.000000e+00    0.000000e+00  \n",
       "25%    6.268447e+02    7.888853e+02  \n",
       "50%    5.779329e+03    3.788658e+03  \n",
       "75%    3.017328e+04    6.929206e+03  \n",
       "max    5.483271e+06    1.966330e+04  "
      ]
     },
     "execution_count": 29,
     "metadata": {},
     "output_type": "execute_result"
    }
   ],
   "source": [
    "# Generate the summary statistics for the bitstamp DataFrame\n",
    "# YOUR CODE HERE\n",
    "bitstamp_df.describe()"
   ]
  },
  {
   "cell_type": "code",
   "execution_count": 30,
   "metadata": {},
   "outputs": [
    {
     "data": {
      "text/html": [
       "<div>\n",
       "<style scoped>\n",
       "    .dataframe tbody tr th:only-of-type {\n",
       "        vertical-align: middle;\n",
       "    }\n",
       "\n",
       "    .dataframe tbody tr th {\n",
       "        vertical-align: top;\n",
       "    }\n",
       "\n",
       "    .dataframe thead th {\n",
       "        text-align: right;\n",
       "    }\n",
       "</style>\n",
       "<table border=\"1\" class=\"dataframe\">\n",
       "  <thead>\n",
       "    <tr style=\"text-align: right;\">\n",
       "      <th></th>\n",
       "      <th>Open</th>\n",
       "      <th>High</th>\n",
       "      <th>Low</th>\n",
       "      <th>Close</th>\n",
       "      <th>BTC Volume</th>\n",
       "      <th>USD Volume</th>\n",
       "      <th>Weighted Price</th>\n",
       "    </tr>\n",
       "  </thead>\n",
       "  <tbody>\n",
       "    <tr>\n",
       "      <th>count</th>\n",
       "      <td>1.549524e+06</td>\n",
       "      <td>1.549524e+06</td>\n",
       "      <td>1.549524e+06</td>\n",
       "      <td>1.549523e+06</td>\n",
       "      <td>1.549524e+06</td>\n",
       "      <td>1.549524e+06</td>\n",
       "      <td>1.549524e+06</td>\n",
       "    </tr>\n",
       "    <tr>\n",
       "      <th>mean</th>\n",
       "      <td>4.091924e+03</td>\n",
       "      <td>4.093724e+03</td>\n",
       "      <td>4.089971e+03</td>\n",
       "      <td>4.091926e+03</td>\n",
       "      <td>8.166902e+00</td>\n",
       "      <td>4.568886e+04</td>\n",
       "      <td>4.091844e+03</td>\n",
       "    </tr>\n",
       "    <tr>\n",
       "      <th>std</th>\n",
       "      <td>3.913505e+03</td>\n",
       "      <td>3.915935e+03</td>\n",
       "      <td>3.910917e+03</td>\n",
       "      <td>3.913501e+03</td>\n",
       "      <td>1.837861e+01</td>\n",
       "      <td>1.575088e+05</td>\n",
       "      <td>3.913428e+03</td>\n",
       "    </tr>\n",
       "    <tr>\n",
       "      <th>min</th>\n",
       "      <td>0.000000e+00</td>\n",
       "      <td>0.000000e+00</td>\n",
       "      <td>0.000000e+00</td>\n",
       "      <td>6.000000e-02</td>\n",
       "      <td>0.000000e+00</td>\n",
       "      <td>0.000000e+00</td>\n",
       "      <td>0.000000e+00</td>\n",
       "    </tr>\n",
       "    <tr>\n",
       "      <th>25%</th>\n",
       "      <td>6.754400e+02</td>\n",
       "      <td>6.756175e+02</td>\n",
       "      <td>6.751575e+02</td>\n",
       "      <td>6.754000e+02</td>\n",
       "      <td>1.004877e+00</td>\n",
       "      <td>1.330345e+03</td>\n",
       "      <td>6.753902e+02</td>\n",
       "    </tr>\n",
       "    <tr>\n",
       "      <th>50%</th>\n",
       "      <td>2.710690e+03</td>\n",
       "      <td>2.711695e+03</td>\n",
       "      <td>2.709970e+03</td>\n",
       "      <td>2.710730e+03</td>\n",
       "      <td>2.914842e+00</td>\n",
       "      <td>7.273319e+03</td>\n",
       "      <td>2.710627e+03</td>\n",
       "    </tr>\n",
       "    <tr>\n",
       "      <th>75%</th>\n",
       "      <td>6.593500e+03</td>\n",
       "      <td>6.595000e+03</td>\n",
       "      <td>6.591803e+03</td>\n",
       "      <td>6.593500e+03</td>\n",
       "      <td>8.061814e+00</td>\n",
       "      <td>2.972584e+04</td>\n",
       "      <td>6.593470e+03</td>\n",
       "    </tr>\n",
       "    <tr>\n",
       "      <th>max</th>\n",
       "      <td>1.989199e+04</td>\n",
       "      <td>1.989199e+04</td>\n",
       "      <td>1.989198e+04</td>\n",
       "      <td>1.989199e+04</td>\n",
       "      <td>1.156319e+03</td>\n",
       "      <td>1.997076e+07</td>\n",
       "      <td>1.989199e+04</td>\n",
       "    </tr>\n",
       "  </tbody>\n",
       "</table>\n",
       "</div>"
      ],
      "text/plain": [
       "               Open          High           Low         Close    BTC Volume  \\\n",
       "count  1.549524e+06  1.549524e+06  1.549524e+06  1.549523e+06  1.549524e+06   \n",
       "mean   4.091924e+03  4.093724e+03  4.089971e+03  4.091926e+03  8.166902e+00   \n",
       "std    3.913505e+03  3.915935e+03  3.910917e+03  3.913501e+03  1.837861e+01   \n",
       "min    0.000000e+00  0.000000e+00  0.000000e+00  6.000000e-02  0.000000e+00   \n",
       "25%    6.754400e+02  6.756175e+02  6.751575e+02  6.754000e+02  1.004877e+00   \n",
       "50%    2.710690e+03  2.711695e+03  2.709970e+03  2.710730e+03  2.914842e+00   \n",
       "75%    6.593500e+03  6.595000e+03  6.591803e+03  6.593500e+03  8.061814e+00   \n",
       "max    1.989199e+04  1.989199e+04  1.989198e+04  1.989199e+04  1.156319e+03   \n",
       "\n",
       "         USD Volume  Weighted Price  \n",
       "count  1.549524e+06    1.549524e+06  \n",
       "mean   4.568886e+04    4.091844e+03  \n",
       "std    1.575088e+05    3.913428e+03  \n",
       "min    0.000000e+00    0.000000e+00  \n",
       "25%    1.330345e+03    6.753902e+02  \n",
       "50%    7.273319e+03    2.710627e+03  \n",
       "75%    2.972584e+04    6.593470e+03  \n",
       "max    1.997076e+07    1.989199e+04  "
      ]
     },
     "execution_count": 30,
     "metadata": {},
     "output_type": "execute_result"
    }
   ],
   "source": [
    "# Generate the summary statistics for the coinbase DataFrame\n",
    "# YOUR CODE HERE\n",
    "coinbase_df.describe()"
   ]
  },
  {
   "cell_type": "code",
   "execution_count": 31,
   "metadata": {},
   "outputs": [
    {
     "data": {
      "text/plain": [
       "<AxesSubplot:title={'center':'bitstamp'}, xlabel='Timestamp'>"
      ]
     },
     "execution_count": 31,
     "metadata": {},
     "output_type": "execute_result"
    },
    {
     "data": {
      "image/png": "[encoded data removed]",
      "text/plain": [
       "<Figure size 1080x504 with 1 Axes>"
      ]
     },
     "metadata": {
      "needs_background": "light"
     },
     "output_type": "display_data"
    }
   ],
   "source": [
    "# Create a line plot for the bitstamp DataFrame for the full length of time in the dataset \n",
    "# Be sure that the figure size, title, and color are tailored to each visualization\n",
    "# YOUR CODE HERE\n",
    "bitstamp_sliced.plot(legend=True, figsize=(15,7),title=\"bitstamp\", color=\"red\", label=\"bitstamp\")\n"
   ]
  },
  {
   "cell_type": "code",
   "execution_count": 32,
   "metadata": {},
   "outputs": [
    {
     "data": {
      "text/plain": [
       "<AxesSubplot:title={'center':'coinbase'}, xlabel='Timestamp'>"
      ]
     },
     "execution_count": 32,
     "metadata": {},
     "output_type": "execute_result"
    },
    {
     "data": {
      "image/png": "[encoded data removed]",
      "text/plain": [
       "<Figure size 1080x504 with 1 Axes>"
      ]
     },
     "metadata": {
      "needs_background": "light"
     },
     "output_type": "display_data"
    }
   ],
   "source": [
    "# Create a line plot for the coinbase DataFrame for the full length of time in the dataset \n",
    "# Be sure that the figure size, title, and color are tailored to each visualization\n",
    "# YOUR CODE HERE\n",
    "coinbase_sliced.plot(legend=True, figsize=(15,7),title=\"coinbase\", color=\"blue\", label=\"coinbase\")\n"
   ]
  },
  {
   "cell_type": "code",
   "execution_count": 33,
   "metadata": {},
   "outputs": [
    {
     "data": {
      "text/plain": [
       "<AxesSubplot:title={'center':'Bistamp and Coinbase overlay'}, xlabel='Timestamp'>"
      ]
     },
     "execution_count": 33,
     "metadata": {},
     "output_type": "execute_result"
    },
    {
     "data": {
      "image/png": "[encoded data removed]",
      "text/plain": [
       "<Figure size 1080x504 with 1 Axes>"
      ]
     },
     "metadata": {
      "needs_background": "light"
     },
     "output_type": "display_data"
    }
   ],
   "source": [
    "# Overlay the visualizations for the bitstamp and coinbase DataFrames in one plot\n",
    "# The plot should visualize the prices over the full lenth of the dataset\n",
    "# Be sure to include the parameters: legend, figure size, title, and color and label\n",
    "# YOUR CODE HERE\n",
    "bitstamp_sliced['Close'].plot(legend=True, figsize=(15,7), title=\"Bistamp and Coinbase overlay\", color=\"red\", label=\"Bitstamp\")\n",
    "coinbase_sliced['Close'].plot(legend=True, figsize=(15,7), color=\"blue\", label=\"Coinbase\")\n",
    "\n"
   ]
  },
  {
   "cell_type": "code",
   "execution_count": 34,
   "metadata": {},
   "outputs": [
    {
     "data": {
      "text/plain": [
       "<AxesSubplot:title={'center':'Bistamp and Coinbase overlay Fab 2016 '}, xlabel='Timestamp'>"
      ]
     },
     "execution_count": 34,
     "metadata": {},
     "output_type": "execute_result"
    },
    {
     "data": {
      "image/png": "[encoded data removed]",
      "text/plain": [
       "<Figure size 1080x504 with 1 Axes>"
      ]
     },
     "metadata": {
      "needs_background": "light"
     },
     "output_type": "display_data"
    }
   ],
   "source": [
    "# Using the loc and plot functions, create an overlay plot that visualizes \n",
    "# the price action of both DataFrames for a one month period early in the dataset\n",
    "# Be sure to include the parameters: legend, figure size, title, and color and label\n",
    "# YOUR CODE HERE\n",
    "bitstamp_sliced['Close'].loc['2016-02-01':'2016-03-01'].plot(legend=True, figsize=(15,7), title=\"Bistamp and Coinbase overlay Fab 2016 \", color=\"Red\", label=\"Bitstamp\")\n",
    "coinbase_sliced['Close'].loc['2016-02-01':'2016-03-01'].plot(legend=True, figsize=(15,7), color=\"Blue\", label=\"Coinbase\")"
   ]
  },
  {
   "cell_type": "code",
   "execution_count": 35,
   "metadata": {},
   "outputs": [
    {
     "data": {
      "text/plain": [
       "<AxesSubplot:title={'center':'Bistamp and Coinbase Dec 2017'}, xlabel='Timestamp'>"
      ]
     },
     "execution_count": 35,
     "metadata": {},
     "output_type": "execute_result"
    },
    {
     "data": {
      "image/png": "[encoded data removed]",
      "text/plain": [
       "<Figure size 1080x504 with 1 Axes>"
      ]
     },
     "metadata": {
      "needs_background": "light"
     },
     "output_type": "display_data"
    }
   ],
   "source": [
    "# Using the loc and plot functions, create an overlay plot that visualizes \n",
    "# the price action of both DataFrames for a one month period later in the dataset\n",
    "# Be sure to include the parameters: legend, figure size, title, and color and label \n",
    "# YOUR CODE HERE\n",
    "bitstamp_sliced['Close'].loc['2017-12-01':'2018-01-01'].plot(legend=True, figsize=(15,7), title=\"Bistamp and Coinbase Dec 2017\", color=\"Red\", label=\"Bitstamp\")\n",
    "coinbase_sliced['Close'].loc['2017-12-01':'2018-01-01'].plot(legend=True, figsize=(15,7), color=\"Blue\", label=\"Coinbase\")"
   ]
  },
  {
   "cell_type": "code",
   "execution_count": 36,
   "metadata": {},
   "outputs": [
    {
     "data": {
      "text/plain": [
       "<AxesSubplot:title={'center':'Bistamp and Coinbase overlay Dec 2018'}, xlabel='Timestamp'>"
      ]
     },
     "execution_count": 36,
     "metadata": {},
     "output_type": "execute_result"
    },
    {
     "data": {
      "image/png": "[encoded data removed]",
      "text/plain": [
       "<Figure size 1080x504 with 1 Axes>"
      ]
     },
     "metadata": {
      "needs_background": "light"
     },
     "output_type": "display_data"
    }
   ],
   "source": [
    "bitstamp_sliced['Close'].loc['2018-12-01':'2019-01-01'].plot(legend=True, figsize=(15,7), title=\"Bistamp and Coinbase overlay Dec 2018\", color=\"Red\", label=\"Bitstamp\")\n",
    "coinbase_sliced['Close'].loc['2018-12-01':'2019-01-01'].plot(legend=True, figsize=(15,7), color=\"Blue\", label=\"Coinbase\")"
   ]
  },
  {
   "cell_type": "markdown",
   "metadata": {},
   "source": [
    "**Question** Based on the visualizations of the different time periods, has the degree of spread change as time progressed?\n",
    "\n",
    "**Answer** \n",
    "\n",
    "To understand Bitcoin price change over time we need to know some background behind the technology, in this case-Halving event. \n",
    "Here is a quote from Investopedia: \"After every 210,000 blocks mined, or roughly every four years, the block reward given to Bitcoin miners for processing transactions is cut in half. This cuts in half the rate at which new Bitcoin is released into circulation. This is Bitcoin's way of using a synthetic form of inflation that halves every four years until all Bitcoin is released and is in circulation\". \n",
    "(https://www.investopedia.com/bitcoin-halving-4843769)\n",
    "\n",
    "We can clearly witness the impact of such an event. particularly second halving, happened in July of 2016.\n",
    "Thats why I chose 3 periods to analyze. From the Overlaying the visualizations for the Bitstamp and Coinbase DataFrames for the whole period of time I noticed that in 2016  There is days and weeks where Bitstamp bitcoin price was > Coinbase bitcoin price. To bring diversity to my analyzes I picked a period of time where Bitstamp Bitcoin price were higher.\n",
    "\n",
    "EARLY period :['2016-02-01':'2016-03-01'].\n",
    "\n",
    "We can clearly see that prices over this period of sometimes show Bitstamp price higher and sometimes Coinbase. That uncertainty might present some opportunities for the arbitrage I will explore in further data analyses. \n",
    "\n",
    "MIDDLE period :['2017-12-01':'2018-01-01']\n",
    "\n",
    "\"The second Bitcoin halving occurred in July of 2016. The price at that halving was about $650 and by December 17th, 2017, Bitcoin's price had soared to nearly $20,000. The price then fell over the course of a year from this peak down to around $3,200, a price nearly 400% higher than Its pre-halving price.\"\n",
    "(https://www.investopedia.com/bitcoin-halving-4843769)\n",
    "\n",
    "We can see on our visualization graph: the period of price volatility, soaring price of this mysterious crypto asset, uncertainty about future price dynamic created a lot of arbitrage opportunities between Bitstamp and Coinbase platforms. Further financial analyze focuses on areas of interest proves that theory- somebody clearly made a lot of money on crypto craze in December 2017.\n",
    "\n",
    "LATE period: ['2018-12-01':'2019-01-01']\n",
    "After the sharp fall Bitcoin Price stabilized and both exchanges- Bitstamp and Coinbase shows almost same price levels, closing the opportunity for any arbitrage profit."
   ]
  },
  {
   "cell_type": "markdown",
   "metadata": {},
   "source": [
    "### Step 3: Focus Your Analysis on Specific Dates\n",
    "\n",
    "Focus your analysis on specific dates by completing the following steps:\n",
    "\n",
    "1. Select three dates to evaluate for arbitrage profitability. Choose one date that’s early in the dataset, one from the middle of the dataset, and one from the last year of the time period.\n",
    "\n",
    "2. For each of the three dates, generate the summary statistics and then create a box plot. This big-picture view is meant to help you gain a better understanding of the data before you perform your arbitrage calculations. As you compare the data, what conclusions can you draw?"
   ]
  },
  {
   "cell_type": "code",
   "execution_count": 37,
   "metadata": {},
   "outputs": [
    {
     "data": {
      "text/plain": [
       "<AxesSubplot:title={'center':'Bistamp and Coinbase overlay 2016-02-04'}, xlabel='Timestamp'>"
      ]
     },
     "execution_count": 37,
     "metadata": {},
     "output_type": "execute_result"
    },
    {
     "data": {
      "image/png": "[encoded data removed]",
      "text/plain": [
       "<Figure size 1080x504 with 1 Axes>"
      ]
     },
     "metadata": {
      "needs_background": "light"
     },
     "output_type": "display_data"
    }
   ],
   "source": [
    "# Create an overlay plot that visualizes the two dataframes over a period of one day early in the dataset \n",
    "# Be sure that the plots include the parameters `legend`, `figsize`, `title`, `color` and `label` \n",
    "# YOUR CODE HERE\n",
    "bitstamp_df['Close'].loc['2016-02-04'].plot(legend=True, figsize=(15,7), title=\"Bistamp and Coinbase overlay 2016-02-04\", color=\"Red\", label=\"Bitstamp\")\n",
    "coinbase_df['Close'].loc['2016-02-04'].plot(legend=True, figsize=(15,7), color=\"Blue\", label=\"Coinbase\")"
   ]
  },
  {
   "cell_type": "code",
   "execution_count": 38,
   "metadata": {
    "tags": []
   },
   "outputs": [
    {
     "data": {
      "text/plain": [
       "count    1107.000000\n",
       "mean        0.552629\n",
       "std         0.610201\n",
       "min        -1.830000\n",
       "25%         0.180000\n",
       "50%         0.530000\n",
       "75%         0.900000\n",
       "max         2.580000\n",
       "Name: Close, dtype: float64"
      ]
     },
     "execution_count": 38,
     "metadata": {},
     "output_type": "execute_result"
    }
   ],
   "source": [
    "# Using the early date that you have selected, calculate the arbitrage spread \n",
    "# by subtracting the coinbase lower closing prices from the bitstamp higher closing prices \n",
    "arbitrage_spread_early = bitstamp_df['Close'].loc['2016-02-04']-coinbase_df['Close'].loc['2016-02-04']\n",
    "# Generate summary statistics for the early DataFrame\n",
    "# YOUR CODE HERE\n",
    "arbitrage_spread_early.describe()"
   ]
  },
  {
   "cell_type": "code",
   "execution_count": 39,
   "metadata": {},
   "outputs": [
    {
     "data": {
      "text/plain": [
       "<AxesSubplot:title={'center':'Arbitrage spread early 2016-02-04'}>"
      ]
     },
     "execution_count": 39,
     "metadata": {},
     "output_type": "execute_result"
    },
    {
     "data": {
      "image/png": "[encoded data removed]",
      "text/plain": [
       "<Figure size 1080x504 with 1 Axes>"
      ]
     },
     "metadata": {
      "needs_background": "light"
     },
     "output_type": "display_data"
    }
   ],
   "source": [
    "# Visualize the arbitrage spread from early in the dataset in a box plot\n",
    "# Be sure to include at least a title with your plot\n",
    "# YOUR CODE HERE\n",
    "arbitrage_spread_early.plot(kind='box', figsize=(15, 7), title=\"Arbitrage spread early 2016-02-04\")"
   ]
  },
  {
   "cell_type": "code",
   "execution_count": 40,
   "metadata": {},
   "outputs": [
    {
     "data": {
      "text/plain": [
       "<AxesSubplot:title={'center':'Bistamp and Coinbase overlay 2017-12-09'}, xlabel='Timestamp'>"
      ]
     },
     "execution_count": 40,
     "metadata": {},
     "output_type": "execute_result"
    },
    {
     "data": {
      "image/png": "[encoded data removed]",
      "text/plain": [
       "<Figure size 1080x504 with 1 Axes>"
      ]
     },
     "metadata": {
      "needs_background": "light"
     },
     "output_type": "display_data"
    }
   ],
   "source": [
    "# Create an overlay plot that visualizes the two dataframes over a period of one day from the middle of the dataset. \n",
    "# Be sure that the plots include the parameters `legend`, `figsize`, `title`, `color` and `label` \n",
    "# YOUR CODE HERE\n",
    "bitstamp_df['Close'].loc['2017-12-09'].plot(legend=True, figsize=(15,7), title=\"Bistamp and Coinbase overlay 2017-12-09\", color=\"Red\", label=\"Bitstamp\")\n",
    "coinbase_df['Close'].loc['2017-12-09'].plot(legend=True, figsize=(15,7), color=\"Blue\", label=\"Coinbase\")\n",
    "\n"
   ]
  },
  {
   "cell_type": "code",
   "execution_count": 41,
   "metadata": {},
   "outputs": [
    {
     "data": {
      "text/plain": [
       "Timestamp\n",
       "2017-12-09 00:00:00    694.04\n",
       "2017-12-09 00:01:00    701.28\n",
       "2017-12-09 00:02:00    682.27\n",
       "2017-12-09 00:03:00    744.30\n",
       "2017-12-09 00:04:00    689.06\n",
       "                        ...  \n",
       "2017-12-09 23:55:00    463.74\n",
       "2017-12-09 23:56:00    500.08\n",
       "2017-12-09 23:57:00    559.99\n",
       "2017-12-09 23:58:00    470.79\n",
       "2017-12-09 23:59:00    482.91\n",
       "Name: Close, Length: 1440, dtype: float64"
      ]
     },
     "execution_count": 41,
     "metadata": {},
     "output_type": "execute_result"
    }
   ],
   "source": [
    "# Using the date form the middle that you have selected, calculate the arbitrage spread \n",
    "# by subtracting the bitstamp lower closing prices from the coinbase higher closing prices\n",
    "#arbitrage_spread_middle = # YOUR CODE HERE\n",
    "arbitrage_spread_middle = coinbase_df['Close'].loc['2017-12-09']-bitstamp_df['Close'].loc['2017-12-09']\n",
    "# Generate summary statistics for the middle DataFrame\n",
    "# YOUR CODE HERE\n",
    "arbitrage_spread_middle"
   ]
  },
  {
   "cell_type": "code",
   "execution_count": 42,
   "metadata": {},
   "outputs": [
    {
     "data": {
      "text/plain": [
       "<AxesSubplot:title={'center':'Arbitrage spread middle 2017-12-09'}>"
      ]
     },
     "execution_count": 42,
     "metadata": {},
     "output_type": "execute_result"
    },
    {
     "data": {
      "image/png": "[encoded data removed]",
      "text/plain": [
       "<Figure size 1080x504 with 1 Axes>"
      ]
     },
     "metadata": {
      "needs_background": "light"
     },
     "output_type": "display_data"
    }
   ],
   "source": [
    "# Visualize the arbitrage spread from the middle of the dataset in a box plot\n",
    "# Be sure to include at least a title with your plot\n",
    "# YOUR CODE HERE\n",
    "arbitrage_spread_middle.plot(kind='box', figsize=(15, 7), title=\"Arbitrage spread middle 2017-12-09\")"
   ]
  },
  {
   "cell_type": "code",
   "execution_count": 43,
   "metadata": {},
   "outputs": [
    {
     "data": {
      "text/plain": [
       "<AxesSubplot:title={'center':'Bistamp and Coinbase overlay 2018-12-09'}, xlabel='Timestamp'>"
      ]
     },
     "execution_count": 43,
     "metadata": {},
     "output_type": "execute_result"
    },
    {
     "data": {
      "image/png": "[encoded data removed]",
      "text/plain": [
       "<Figure size 1080x504 with 1 Axes>"
      ]
     },
     "metadata": {
      "needs_background": "light"
     },
     "output_type": "display_data"
    }
   ],
   "source": [
    "# Create an overlay plot that visualizes the two dataframes over a period of one day from late in the dataset\n",
    "# Be sure that the plots include the parameters `legend`, `figsize`, `title`, `color` and `label` \n",
    "# YOUR CODE HERE\n",
    "bitstamp_df['Close'].loc['2018-12-09'].plot(legend=True, figsize=(15,7), title=\"Bistamp and Coinbase overlay 2018-12-09\", color=\"Red\", label=\"Bitstamp\")\n",
    "coinbase_df['Close'].loc['2018-12-09'].plot(legend=True, figsize=(15,7), color=\"Blue\", label=\"Coinbase\")"
   ]
  },
  {
   "cell_type": "code",
   "execution_count": 44,
   "metadata": {},
   "outputs": [
    {
     "data": {
      "text/plain": [
       "Timestamp\n",
       "2018-12-09 00:00:00    0.00\n",
       "2018-12-09 00:01:00    0.44\n",
       "2018-12-09 00:02:00    2.20\n",
       "2018-12-09 00:03:00    0.94\n",
       "2018-12-09 00:04:00   -0.38\n",
       "                       ... \n",
       "2018-12-09 23:55:00     NaN\n",
       "2018-12-09 23:56:00     NaN\n",
       "2018-12-09 23:57:00   -3.19\n",
       "2018-12-09 23:58:00   -2.30\n",
       "2018-12-09 23:59:00   -2.54\n",
       "Name: Close, Length: 1440, dtype: float64"
      ]
     },
     "execution_count": 44,
     "metadata": {},
     "output_type": "execute_result"
    }
   ],
   "source": [
    "# Using th date from late in the dataset that you have selected, calculate the arbitrage spread \n",
    "# by subtracting the bitstamp lower closing prices from the coinbase higher closing prices\n",
    "#arbitrage_spread_late = # YOUR CODE HERE\n",
    "arbitrage_spread_late = coinbase_df['Close'].loc['2018-12-09']-bitstamp_df['Close'].loc['2018-12-09']\n",
    "# Generate summary statistics for the late DataFrame\n",
    "# YOUR CODE HERE\n",
    "arbitrage_spread_late"
   ]
  },
  {
   "cell_type": "code",
   "execution_count": 45,
   "metadata": {},
   "outputs": [
    {
     "data": {
      "text/plain": [
       "<AxesSubplot:title={'center':'Arbitrage spread late 2018-12-09'}>"
      ]
     },
     "execution_count": 45,
     "metadata": {},
     "output_type": "execute_result"
    },
    {
     "data": {
      "image/png": "[encoded data removed]",
      "text/plain": [
       "<Figure size 1080x504 with 1 Axes>"
      ]
     },
     "metadata": {
      "needs_background": "light"
     },
     "output_type": "display_data"
    }
   ],
   "source": [
    "# Visualize the arbitrage spread from late in the dataset in a box plot\n",
    "# Be sure to include at least a title with your plot\n",
    "# YOUR CODE HERE\n",
    "arbitrage_spread_late.plot(kind='box', figsize=(15, 7), title=\"Arbitrage spread late 2018-12-09\")"
   ]
  },
  {
   "cell_type": "markdown",
   "metadata": {},
   "source": [
    "### Step 4: Calculate the Arbitrage Profits\n",
    "\n",
    "Calculate the potential profits for each date that you selected in the previous section. Your goal is to determine whether arbitrage opportunities still exist in the Bitcoin market. Complete the following steps:\n",
    "\n",
    "1. For each of the three dates, measure the arbitrage spread between the two exchanges by subtracting the lower-priced exchange from the higher-priced one. Then use a conditional statement to generate the summary statistics for each arbitrage_spread DataFrame, where the spread is greater than zero.\n",
    "\n",
    "2. For each of the three dates, calculate the spread returns. To do so, divide the instances that have a positive arbitrage spread (that is, a spread greater than zero) by the price of Bitcoin from the exchange you’re buying on (that is, the lower-priced exchange). Review the resulting DataFrame.\n",
    "\n",
    "3. For each of the three dates, narrow down your trading opportunities even further. To do so, determine the number of times your trades with positive returns exceed the 1% minimum threshold that you need to cover your costs.\n",
    "\n",
    "4. Generate the summary statistics of your spread returns that are greater than 1%. How do the average returns compare among the three dates?\n",
    "\n",
    "5. For each of the three dates, calculate the potential profit, in dollars, per trade. To do so, multiply the spread returns that were greater than 1% by the cost of what was purchased. Make sure to drop any missing values from the resulting DataFrame.\n",
    "\n",
    "6. Generate the summary statistics, and plot the results for each of the three DataFrames.\n",
    "\n",
    "7. Calculate the potential arbitrage profits that you can make on each day. To do so, sum the elements in the profit_per_trade DataFrame.\n",
    "\n",
    "8. Using the `cumsum` function, plot the cumulative sum of each of the three DataFrames. Can you identify any patterns or trends in the profits across the three time periods?\n",
    "\n",
    "(NOTE: The starter code displays only one date. You'll want to do this analysis for two additional dates)."
   ]
  },
  {
   "cell_type": "markdown",
   "metadata": {},
   "source": [
    "#### 1. For each of the three dates, measure the arbitrage spread between the two exchanges by subtracting the lower-priced exchange from the higher-priced one. Then use a conditional statement to generate the summary statistics for each arbitrage_spread DataFrame, where the spread is greater than zero."
   ]
  },
  {
   "cell_type": "code",
   "execution_count": 46,
   "metadata": {},
   "outputs": [
    {
     "data": {
      "text/plain": [
       "count    921.000000\n",
       "mean       0.734072\n",
       "std        0.480381\n",
       "min        0.010000\n",
       "25%        0.390000\n",
       "50%        0.630000\n",
       "75%        0.990000\n",
       "max        2.580000\n",
       "Name: Close, dtype: float64"
      ]
     },
     "execution_count": 46,
     "metadata": {},
     "output_type": "execute_result"
    }
   ],
   "source": [
    "# For the date early in the dataset, measure the arbitrage spread between the two exchanges\n",
    "# by subtracting the lower-priced exchange from the higher-priced one\n",
    "\n",
    "arbitrage_spread_early = bitstamp_df['Close'].loc['2016-02-04']-coinbase_df['Close'].loc['2016-02-04']\n",
    "# Use a conditional statement to generate the summary statistics for each arbitrage_spread DataFrame\n",
    "# YOUR CODE HERE\n",
    "arbitrage_spread_early=arbitrage_spread_early.dropna()\n",
    "\n",
    "arbitrage_spread_early[arbitrage_spread_early>0].describe()\n"
   ]
  },
  {
   "cell_type": "code",
   "execution_count": 47,
   "metadata": {},
   "outputs": [
    {
     "data": {
      "text/plain": [
       "count    1440.000000\n",
       "mean      760.736389\n",
       "std       158.541774\n",
       "min       373.870000\n",
       "25%       650.762500\n",
       "50%       747.060000\n",
       "75%       869.030000\n",
       "max      1199.000000\n",
       "Name: Close, dtype: float64"
      ]
     },
     "execution_count": 47,
     "metadata": {},
     "output_type": "execute_result"
    }
   ],
   "source": [
    "# For the from the middle of the dataset, measure the arbitrage spread between the two exchanges\n",
    "# by subtracting the lower-priced exchange from the higher-priced one\n",
    "#arbitrage_spread_middle = # YOUR CODE HERE\n",
    "arbitrage_spread_middle = coinbase_df['Close'].loc['2017-12-09']-  bitstamp_df['Close'].loc['2017-12-09']\n",
    "# Use a conditional statement to generate the summary statistics for each arbitrage_spread DataFrame\n",
    "# YOUR CODE HERE\n",
    "arbitrage_spread_middle=arbitrage_spread_middle.dropna()\n",
    "\n",
    "arbitrage_spread_middle[arbitrage_spread_middle>0].describe()"
   ]
  },
  {
   "cell_type": "code",
   "execution_count": 48,
   "metadata": {},
   "outputs": [
    {
     "data": {
      "text/plain": [
       "count    863.000000\n",
       "mean       3.150023\n",
       "std        2.589721\n",
       "min        0.010000\n",
       "25%        1.260000\n",
       "50%        2.530000\n",
       "75%        4.370000\n",
       "max       17.000000\n",
       "Name: Close, dtype: float64"
      ]
     },
     "execution_count": 48,
     "metadata": {},
     "output_type": "execute_result"
    }
   ],
   "source": [
    "# For the date late in the dataset, measure the arbitrage spread between the two exchanges\n",
    "# by subtracting the lower-priced exchange from the higher-priced one\n",
    "#arbitrage_spread_late = # YOUR CODE HERE\n",
    "arbitrage_spread_late = coinbase_df['Close'].loc['2018-12-09']-  bitstamp_df['Close'].loc['2018-12-09']\n",
    "# Use a conditional statement to generate the summary statistics for each arbitrage_spread DataFrame\n",
    "# YOUR CODE HERE\n",
    "arbitrage_spread_late=arbitrage_spread_late.dropna()\n",
    "\n",
    "arbitrage_spread_late[arbitrage_spread_late>0].describe()\n",
    "\n"
   ]
  },
  {
   "cell_type": "markdown",
   "metadata": {},
   "source": [
    "#### 2. For each of the three dates, calculate the spread returns. To do so, divide the instances that have a positive arbitrage spread (that is, a spread greater than zero) by the price of Bitcoin from the exchange you’re buying on (that is, the lower-priced exchange). Review the resulting DataFrame."
   ]
  },
  {
   "cell_type": "code",
   "execution_count": 49,
   "metadata": {},
   "outputs": [
    {
     "data": {
      "text/plain": [
       "Timestamp\n",
       "2016-02-04 00:01:00    0.002109\n",
       "2016-02-04 00:04:00    0.001324\n",
       "2016-02-04 00:08:00    0.002706\n",
       "2016-02-04 00:09:00    0.002598\n",
       "2016-02-04 00:10:00    0.002245\n",
       "                         ...   \n",
       "2016-02-04 23:51:00    0.002229\n",
       "2016-02-04 23:53:00    0.005215\n",
       "2016-02-04 23:54:00    0.004354\n",
       "2016-02-04 23:55:00    0.003470\n",
       "2016-02-04 23:56:00    0.003966\n",
       "Name: Close, Length: 921, dtype: float64"
      ]
     },
     "execution_count": 49,
     "metadata": {},
     "output_type": "execute_result"
    }
   ],
   "source": [
    "# For the date early in the dataset, calculate the spread returns by dividing \n",
    "# the instances when the arbitrage spread is positive (> 0) by the price of Bitcoin \n",
    "# from the exchange you are buying on (the lower-priced exchange)\n",
    "spread_return_early = arbitrage_spread_early[arbitrage_spread_early>0]/coinbase_df['Close'].loc['2016-02-04']\n",
    "\n",
    "# Review the spread return DataFrame\n",
    "# YOUR CODE HERE\n",
    "spread_return_early.dropna()"
   ]
  },
  {
   "cell_type": "code",
   "execution_count": 50,
   "metadata": {},
   "outputs": [
    {
     "data": {
      "text/plain": [
       "Timestamp\n",
       "2017-12-09 00:00:00    0.045926\n",
       "2017-12-09 00:01:00    0.046443\n",
       "2017-12-09 00:02:00    0.045116\n",
       "2017-12-09 00:03:00    0.049326\n",
       "2017-12-09 00:04:00    0.045600\n",
       "                         ...   \n",
       "2017-12-09 23:55:00    0.034133\n",
       "2017-12-09 23:56:00    0.036771\n",
       "2017-12-09 23:57:00    0.041176\n",
       "2017-12-09 23:58:00    0.034573\n",
       "2017-12-09 23:59:00    0.035464\n",
       "Name: Close, Length: 1440, dtype: float64"
      ]
     },
     "execution_count": 50,
     "metadata": {},
     "output_type": "execute_result"
    }
   ],
   "source": [
    "# For the date in the middle of the dataset, calculate the spread returns by dividing \n",
    "# the instances when the arbitrage spread is positive (> 0)  by the price of Bitcoin \n",
    "# from the exchange you are buying on (the lower-priced exchange)\n",
    "#spread_return_middle = # YOUR CODE HERE\n",
    "spread_return_middle = arbitrage_spread_middle[arbitrage_spread_middle>0]/bitstamp_df['Close'].loc['2017-12-09']\n",
    "\n",
    "# Review the spread return DataFrame\n",
    "# YOUR CODE HERE\n",
    "spread_return_middle.dropna()\n",
    "\n"
   ]
  },
  {
   "cell_type": "code",
   "execution_count": 51,
   "metadata": {},
   "outputs": [
    {
     "data": {
      "text/plain": [
       "Timestamp\n",
       "2018-12-09 00:01:00    0.000129\n",
       "2018-12-09 00:02:00    0.000646\n",
       "2018-12-09 00:03:00    0.000276\n",
       "2018-12-09 00:05:00    0.000790\n",
       "2018-12-09 00:07:00    0.000546\n",
       "                         ...   \n",
       "2018-12-09 23:39:00    0.000856\n",
       "2018-12-09 23:41:00    0.000714\n",
       "2018-12-09 23:44:00    0.000500\n",
       "2018-12-09 23:45:00    0.000389\n",
       "2018-12-09 23:54:00    0.000009\n",
       "Name: Close, Length: 863, dtype: float64"
      ]
     },
     "execution_count": 51,
     "metadata": {},
     "output_type": "execute_result"
    }
   ],
   "source": [
    "# For the date late in the dataset, calculate the spread returns by dividing \n",
    "# the instances when the arbitrage spread is positive (> 0)  by the price of Bitcoin \n",
    "# from the exchange you are buying on (the lower-priced exchange)\n",
    "#spread_return_late = # YOUR CODE HERE\n",
    "spread_return_late = arbitrage_spread_late[arbitrage_spread_late>0]/bitstamp_df['Close'].loc['2018-12-09']\n",
    "\n",
    "# Review the spread return DataFrame\n",
    "# YOUR CODE HERE\n",
    "spread_return_late.dropna()"
   ]
  },
  {
   "cell_type": "markdown",
   "metadata": {},
   "source": [
    "#### 3. For each of the three dates, narrow down your trading opportunities even further. To do so, determine the number of times your trades with positive returns exceed the 1% minimum threshold that you need to cover your costs."
   ]
  },
  {
   "cell_type": "code",
   "execution_count": 52,
   "metadata": {},
   "outputs": [
    {
     "data": {
      "text/plain": [
       "Series([], Name: Close, dtype: float64)"
      ]
     },
     "execution_count": 52,
     "metadata": {},
     "output_type": "execute_result"
    }
   ],
   "source": [
    "# For the date early in the dataset, determine the number of times your trades with positive returns \n",
    "# exceed the 1% minimum threshold (.01) that you need to cover your costs\n",
    "profitable_trades_early = spread_return_early[spread_return_early>0.01]\n",
    "\n",
    "# Review the first five profitable trades\n",
    "# YOUR CODE HERE\n",
    "profitable_trades_early.head()\n"
   ]
  },
  {
   "cell_type": "code",
   "execution_count": 53,
   "metadata": {},
   "outputs": [
    {
     "data": {
      "text/plain": [
       "0"
      ]
     },
     "execution_count": 53,
     "metadata": {},
     "output_type": "execute_result"
    }
   ],
   "source": [
    "len(profitable_trades_early)"
   ]
  },
  {
   "cell_type": "code",
   "execution_count": 54,
   "metadata": {},
   "outputs": [
    {
     "data": {
      "text/plain": [
       "Timestamp\n",
       "2017-12-09 00:00:00    0.045926\n",
       "2017-12-09 00:01:00    0.046443\n",
       "2017-12-09 00:02:00    0.045116\n",
       "2017-12-09 00:03:00    0.049326\n",
       "2017-12-09 00:04:00    0.045600\n",
       "Name: Close, dtype: float64"
      ]
     },
     "execution_count": 54,
     "metadata": {},
     "output_type": "execute_result"
    }
   ],
   "source": [
    "# For the date in the middle of the dataset, determine the number of times your trades with positive returns \n",
    "# exceed the 1% minimum threshold (.01) that you need to cover your costs\n",
    "#profitable_trades_middle = # YOUR CODE HERE\n",
    "profitable_trades_middle = spread_return_middle[spread_return_middle>0.01]\n",
    "\n",
    "# Review the first five profitable trades\n",
    "# YOUR CODE HERE\n",
    "profitable_trades_middle.head()"
   ]
  },
  {
   "cell_type": "code",
   "execution_count": 55,
   "metadata": {},
   "outputs": [
    {
     "data": {
      "text/plain": [
       "1440"
      ]
     },
     "execution_count": 55,
     "metadata": {},
     "output_type": "execute_result"
    }
   ],
   "source": [
    "len(profitable_trades_middle)"
   ]
  },
  {
   "cell_type": "code",
   "execution_count": 56,
   "metadata": {},
   "outputs": [
    {
     "data": {
      "text/plain": [
       "Series([], Name: Close, dtype: float64)"
      ]
     },
     "execution_count": 56,
     "metadata": {},
     "output_type": "execute_result"
    }
   ],
   "source": [
    "# For the date late in the dataset, determine the number of times your trades with positive returns \n",
    "# exceed the 1% minimum threshold (.01) that you need to cover your costs\n",
    "profitable_trades_late = spread_return_late[spread_return_late>0.01]\n",
    "\n",
    "# Review the first five profitable trades\n",
    "# YOUR CODE HERE\n",
    "profitable_trades_late.head()\n"
   ]
  },
  {
   "cell_type": "code",
   "execution_count": 57,
   "metadata": {},
   "outputs": [
    {
     "data": {
      "text/plain": [
       "0"
      ]
     },
     "execution_count": 57,
     "metadata": {},
     "output_type": "execute_result"
    }
   ],
   "source": [
    "len(profitable_trades_late)"
   ]
  },
  {
   "cell_type": "markdown",
   "metadata": {},
   "source": [
    "#### 4. Generate the summary statistics of your spread returns that are greater than 1%. How do the average returns compare among the three dates?"
   ]
  },
  {
   "cell_type": "code",
   "execution_count": 58,
   "metadata": {},
   "outputs": [
    {
     "data": {
      "text/plain": [
       "count    0.0\n",
       "mean     NaN\n",
       "std      NaN\n",
       "min      NaN\n",
       "25%      NaN\n",
       "50%      NaN\n",
       "75%      NaN\n",
       "max      NaN\n",
       "Name: Close, dtype: float64"
      ]
     },
     "execution_count": 58,
     "metadata": {},
     "output_type": "execute_result"
    }
   ],
   "source": [
    "# For the date early in the dataset, generate the summary statistics for the profitable trades\n",
    "# or you trades where the spread returns are are greater than 1%\n",
    "# YOUR CODE HERE\n",
    "profitable_trades_early.describe()"
   ]
  },
  {
   "cell_type": "code",
   "execution_count": 59,
   "metadata": {},
   "outputs": [
    {
     "data": {
      "text/plain": [
       "count    1440.000000\n",
       "mean        0.052763\n",
       "std         0.011267\n",
       "min         0.028189\n",
       "25%         0.044363\n",
       "50%         0.051782\n",
       "75%         0.059911\n",
       "max         0.089833\n",
       "Name: Close, dtype: float64"
      ]
     },
     "execution_count": 59,
     "metadata": {},
     "output_type": "execute_result"
    }
   ],
   "source": [
    "# For the date in the middle of the dataset, generate the summary statistics for the profitable trades\n",
    "# or you trades where the spread returns are are greater than 1%\n",
    "# YOUR CODE HERE\n",
    "profitable_trades_middle.describe()"
   ]
  },
  {
   "cell_type": "code",
   "execution_count": 60,
   "metadata": {},
   "outputs": [
    {
     "data": {
      "text/plain": [
       "count    0.0\n",
       "mean     NaN\n",
       "std      NaN\n",
       "min      NaN\n",
       "25%      NaN\n",
       "50%      NaN\n",
       "75%      NaN\n",
       "max      NaN\n",
       "Name: Close, dtype: float64"
      ]
     },
     "execution_count": 60,
     "metadata": {},
     "output_type": "execute_result"
    }
   ],
   "source": [
    "# For the date late in the dataset, generate the summary statistics for the profitable trades\n",
    "# or you trades where the spread returns are are greater than 1%\n",
    "# YOUR CODE HERE\n",
    "profitable_trades_late.describe()"
   ]
  },
  {
   "cell_type": "markdown",
   "metadata": {},
   "source": [
    "#### 5. For each of the three dates, calculate the potential profit, in dollars, per trade. To do so, multiply the spread returns that were greater than 1% by the cost of what was purchased. Make sure to drop any missing values from the resulting DataFrame."
   ]
  },
  {
   "cell_type": "code",
   "execution_count": 61,
   "metadata": {},
   "outputs": [
    {
     "data": {
      "text/plain": [
       "Timestamp\n",
       "2016-02-04 00:00:00   NaN\n",
       "2016-02-04 00:01:00   NaN\n",
       "2016-02-04 00:02:00   NaN\n",
       "2016-02-04 00:04:00   NaN\n",
       "2016-02-04 00:05:00   NaN\n",
       "                       ..\n",
       "2016-02-04 23:55:00   NaN\n",
       "2016-02-04 23:56:00   NaN\n",
       "2016-02-04 23:57:00   NaN\n",
       "2016-02-04 23:58:00   NaN\n",
       "2016-02-04 23:59:00   NaN\n",
       "Name: Close, Length: 1366, dtype: float64"
      ]
     },
     "execution_count": 61,
     "metadata": {},
     "output_type": "execute_result"
    }
   ],
   "source": [
    "# For the date early in the dataset, calculate the potential profit per trade in dollars \n",
    "# Multiply the profitable trades by the cost of the Bitcoin that was purchased\n",
    "profit_early = profitable_trades_early*coinbase_df['Close'].loc['2016-02-04']\n",
    "\n",
    "# Drop any missing values from the profit DataFrame\n",
    "profit_early.dropna()\n",
    "\n",
    "# View the early profit DataFrame\n",
    "# YOUR CODE HERE\n",
    "profit_early"
   ]
  },
  {
   "cell_type": "code",
   "execution_count": 62,
   "metadata": {},
   "outputs": [
    {
     "data": {
      "text/plain": [
       "Timestamp\n",
       "2017-12-09 00:00:00    694.04\n",
       "2017-12-09 00:01:00    701.28\n",
       "2017-12-09 00:02:00    682.27\n",
       "2017-12-09 00:03:00    744.30\n",
       "2017-12-09 00:04:00    689.06\n",
       "                        ...  \n",
       "2017-12-09 23:55:00    463.74\n",
       "2017-12-09 23:56:00    500.08\n",
       "2017-12-09 23:57:00    559.99\n",
       "2017-12-09 23:58:00    470.79\n",
       "2017-12-09 23:59:00    482.91\n",
       "Name: Close, Length: 1440, dtype: float64"
      ]
     },
     "execution_count": 62,
     "metadata": {},
     "output_type": "execute_result"
    }
   ],
   "source": [
    "# For the date in the middle of the dataset, calculate the potential profit per trade in dollars \n",
    "# Multiply the profitable trades by the cost of the Bitcoin that was purchased\n",
    "#profit_middle = # YOUR CODE HERE\n",
    "profit_middle = profitable_trades_middle*bitstamp_df['Close'].loc['2017-12-09']\n",
    "\n",
    "# Drop any missing values from the profit DataFrame\n",
    "profit_middle.dropna()\n",
    "\n",
    "# View the middle profit DataFrame\n",
    "# YOUR CODE HERE\n",
    "profit_middle"
   ]
  },
  {
   "cell_type": "code",
   "execution_count": 63,
   "metadata": {},
   "outputs": [
    {
     "data": {
      "text/plain": [
       "Timestamp\n",
       "2018-12-09 00:00:00   NaN\n",
       "2018-12-09 00:01:00   NaN\n",
       "2018-12-09 00:02:00   NaN\n",
       "2018-12-09 00:03:00   NaN\n",
       "2018-12-09 00:04:00   NaN\n",
       "                       ..\n",
       "2018-12-09 23:53:00   NaN\n",
       "2018-12-09 23:54:00   NaN\n",
       "2018-12-09 23:57:00   NaN\n",
       "2018-12-09 23:58:00   NaN\n",
       "2018-12-09 23:59:00   NaN\n",
       "Name: Close, Length: 1335, dtype: float64"
      ]
     },
     "execution_count": 63,
     "metadata": {},
     "output_type": "execute_result"
    }
   ],
   "source": [
    "# For the date late in the dataset, calculate the potential profit per trade in dollars \n",
    "# Multiply the profitable trades by the cost of the Bitcoin that was purchased\n",
    "#profit_late = # YOUR CODE HERE\n",
    "profit_late = profitable_trades_late*bitstamp_df['Close'].loc['2018-12-09']\n",
    "\n",
    "# Drop any missing values from the profit DataFrame\n",
    "profit_late.dropna()\n",
    "\n",
    "# View the middle profit DataFrame\n",
    "# YOUR CODE HERE\n",
    "profit_late"
   ]
  },
  {
   "cell_type": "markdown",
   "metadata": {},
   "source": [
    "#### 6. Generate the summary statistics, and plot the results for each of the three DataFrames."
   ]
  },
  {
   "cell_type": "code",
   "execution_count": 64,
   "metadata": {},
   "outputs": [
    {
     "data": {
      "text/plain": [
       "count    0.0\n",
       "mean     NaN\n",
       "std      NaN\n",
       "min      NaN\n",
       "25%      NaN\n",
       "50%      NaN\n",
       "75%      NaN\n",
       "max      NaN\n",
       "Name: Close, dtype: float64"
      ]
     },
     "execution_count": 64,
     "metadata": {},
     "output_type": "execute_result"
    }
   ],
   "source": [
    "# Generate the summary statistics for the early profit per trade DataFrame\n",
    "# YOUR CODE HERE\n",
    "profit_early.describe()"
   ]
  },
  {
   "cell_type": "code",
   "execution_count": 65,
   "metadata": {},
   "outputs": [
    {
     "data": {
      "text/plain": [
       "<AxesSubplot:title={'center':'Profit early'}, xlabel='Timestamp'>"
      ]
     },
     "execution_count": 65,
     "metadata": {},
     "output_type": "execute_result"
    },
    {
     "data": {
      "image/png": "[encoded data removed]",
      "text/plain": [
       "<Figure size 1080x216 with 1 Axes>"
      ]
     },
     "metadata": {
      "needs_background": "light"
     },
     "output_type": "display_data"
    }
   ],
   "source": [
    "# Plot the results for the early profit per trade DataFrame\n",
    "# Be sure to include at least a title with your plot\n",
    "# YOUR CODE HERE\n",
    "profit_early.plot(legend=True, figsize=(15,3), title=\"Profit early\", color=\"Pink\", label=\"profit 2016-02-04\")"
   ]
  },
  {
   "cell_type": "code",
   "execution_count": 66,
   "metadata": {},
   "outputs": [
    {
     "data": {
      "text/plain": [
       "count    1440.000000\n",
       "mean      760.736389\n",
       "std       158.541774\n",
       "min       373.870000\n",
       "25%       650.762500\n",
       "50%       747.060000\n",
       "75%       869.030000\n",
       "max      1199.000000\n",
       "Name: Close, dtype: float64"
      ]
     },
     "execution_count": 66,
     "metadata": {},
     "output_type": "execute_result"
    }
   ],
   "source": [
    "# Generate the summary statistics for the middle profit per trade DataFrame\n",
    "# YOUR CODE HERE\n",
    "profit_middle.describe()"
   ]
  },
  {
   "cell_type": "code",
   "execution_count": 67,
   "metadata": {},
   "outputs": [
    {
     "data": {
      "text/plain": [
       "<AxesSubplot:title={'center':'Profit Middle period'}, xlabel='Timestamp'>"
      ]
     },
     "execution_count": 67,
     "metadata": {},
     "output_type": "execute_result"
    },
    {
     "data": {
      "image/png": "[encoded data removed]",
      "text/plain": [
       "<Figure size 1080x504 with 1 Axes>"
      ]
     },
     "metadata": {
      "needs_background": "light"
     },
     "output_type": "display_data"
    }
   ],
   "source": [
    "# Plot the results for the middle profit per trade DataFrame\n",
    "# Be sure to include at least a title with your plot\n",
    "# YOUR CODE HERE\n",
    "profit_middle.plot(legend=True, figsize=(15,7), title=\"Profit Middle period\", color=\"Purple\", label=\"profit 2017-12-09\")"
   ]
  },
  {
   "cell_type": "code",
   "execution_count": 68,
   "metadata": {},
   "outputs": [
    {
     "data": {
      "text/plain": [
       "count    0.0\n",
       "mean     NaN\n",
       "std      NaN\n",
       "min      NaN\n",
       "25%      NaN\n",
       "50%      NaN\n",
       "75%      NaN\n",
       "max      NaN\n",
       "Name: Close, dtype: float64"
      ]
     },
     "execution_count": 68,
     "metadata": {},
     "output_type": "execute_result"
    }
   ],
   "source": [
    "# Generate the summary statistics for the late profit per trade DataFrame\n",
    "# YOUR CODE HERE\n",
    "profit_late.describe()"
   ]
  },
  {
   "cell_type": "code",
   "execution_count": 69,
   "metadata": {},
   "outputs": [
    {
     "data": {
      "text/plain": [
       "<AxesSubplot:title={'center':'Profit Late period'}, xlabel='Timestamp'>"
      ]
     },
     "execution_count": 69,
     "metadata": {},
     "output_type": "execute_result"
    },
    {
     "data": {
      "image/png": "[encoded data removed]",
      "text/plain": [
       "<Figure size 360x216 with 1 Axes>"
      ]
     },
     "metadata": {
      "needs_background": "light"
     },
     "output_type": "display_data"
    }
   ],
   "source": [
    "# Plot the results for the late profit per trade DataFrame\n",
    "# Be sure to include at least a title with your plot\n",
    "# YOUR CODE HERE\n",
    "profit_late.plot(legend=True, figsize=(5,3), title=\"Profit Late period\", color=\"Purple\", label=\"profit 2018-12-09\")"
   ]
  },
  {
   "cell_type": "markdown",
   "metadata": {},
   "source": [
    "#### 7. Calculate the potential arbitrage profits that you can make on each day. To do so, sum the elements in the profit_per_trade DataFrame."
   ]
  },
  {
   "cell_type": "code",
   "execution_count": 70,
   "metadata": {},
   "outputs": [
    {
     "data": {
      "text/plain": [
       "0.0"
      ]
     },
     "execution_count": 70,
     "metadata": {},
     "output_type": "execute_result"
    }
   ],
   "source": [
    "# Calculate the sum of the potential profits for the early profit per trade DataFrame\n",
    "# YOUR CODE HERE\n",
    "profit_early.sum()"
   ]
  },
  {
   "cell_type": "code",
   "execution_count": 71,
   "metadata": {},
   "outputs": [
    {
     "data": {
      "text/plain": [
       "1095460.4000000001"
      ]
     },
     "execution_count": 71,
     "metadata": {},
     "output_type": "execute_result"
    }
   ],
   "source": [
    "# Calculate the sum of the potential profits for the middle profit per trade DataFrame\n",
    "# YOUR CODE HERE\n",
    "profit_middle.sum()"
   ]
  },
  {
   "cell_type": "code",
   "execution_count": 72,
   "metadata": {},
   "outputs": [
    {
     "data": {
      "text/plain": [
       "0.0"
      ]
     },
     "execution_count": 72,
     "metadata": {},
     "output_type": "execute_result"
    }
   ],
   "source": [
    "# Calculate the sum of the potential profits for the late profit per trade DataFrame\n",
    "# YOUR CODE HERE\n",
    "profit_late.sum()"
   ]
  },
  {
   "cell_type": "markdown",
   "metadata": {},
   "source": [
    "#### 8. Using the `cumsum` function, plot the cumulative sum of each of the three DataFrames. Can you identify any patterns or trends in the profits across the three time periods?"
   ]
  },
  {
   "cell_type": "code",
   "execution_count": 73,
   "metadata": {},
   "outputs": [
    {
     "data": {
      "text/plain": [
       "Timestamp\n",
       "2016-02-04 00:00:00   NaN\n",
       "2016-02-04 00:01:00   NaN\n",
       "2016-02-04 00:02:00   NaN\n",
       "2016-02-04 00:04:00   NaN\n",
       "2016-02-04 00:05:00   NaN\n",
       "                       ..\n",
       "2016-02-04 23:55:00   NaN\n",
       "2016-02-04 23:56:00   NaN\n",
       "2016-02-04 23:57:00   NaN\n",
       "2016-02-04 23:58:00   NaN\n",
       "2016-02-04 23:59:00   NaN\n",
       "Name: Close, Length: 1366, dtype: float64"
      ]
     },
     "execution_count": 73,
     "metadata": {},
     "output_type": "execute_result"
    }
   ],
   "source": [
    "# Use the cumsum function to calculate the cumulative profits over time for the early profit per trade DataFrame\n",
    "cumulative_profit_early = profit_early.cumsum()\n",
    "cumulative_profit_early"
   ]
  },
  {
   "cell_type": "code",
   "execution_count": 74,
   "metadata": {},
   "outputs": [
    {
     "data": {
      "text/plain": [
       "<AxesSubplot:title={'center':'Cumulative_profit_early'}, xlabel='Timestamp'>"
      ]
     },
     "execution_count": 74,
     "metadata": {},
     "output_type": "execute_result"
    },
    {
     "data": {
      "image/png": "[encoded data removed]",
      "text/plain": [
       "<Figure size 360x216 with 1 Axes>"
      ]
     },
     "metadata": {
      "needs_background": "light"
     },
     "output_type": "display_data"
    }
   ],
   "source": [
    "# Plot the cumulative sum of profits for the early profit per trade DataFrame\n",
    "# Be sure to include at least a title with your plot\n",
    "# YOUR CODE HERE\n",
    "cumulative_profit_early.plot(legend=True, figsize=(5,3), title=\"Cumulative_profit_early\", color=\"Pink\", label=\"profit 2016-02-04\")"
   ]
  },
  {
   "cell_type": "code",
   "execution_count": 75,
   "metadata": {},
   "outputs": [
    {
     "data": {
      "text/plain": [
       "Timestamp\n",
       "2017-12-09 00:00:00        694.04\n",
       "2017-12-09 00:01:00       1395.32\n",
       "2017-12-09 00:02:00       2077.59\n",
       "2017-12-09 00:03:00       2821.89\n",
       "2017-12-09 00:04:00       3510.95\n",
       "                          ...    \n",
       "2017-12-09 23:55:00    1093446.63\n",
       "2017-12-09 23:56:00    1093946.71\n",
       "2017-12-09 23:57:00    1094506.70\n",
       "2017-12-09 23:58:00    1094977.49\n",
       "2017-12-09 23:59:00    1095460.40\n",
       "Name: Close, Length: 1440, dtype: float64"
      ]
     },
     "execution_count": 75,
     "metadata": {},
     "output_type": "execute_result"
    }
   ],
   "source": [
    "# Use the cumsum function to calculate the cumulative profits over time for the middle profit per trade DataFrame\n",
    "cumulative_profit_middle = profit_middle.cumsum()\n",
    "cumulative_profit_middle"
   ]
  },
  {
   "cell_type": "code",
   "execution_count": 76,
   "metadata": {},
   "outputs": [
    {
     "data": {
      "text/plain": [
       "<AxesSubplot:title={'center':'Cumulative profit middle'}, xlabel='Timestamp'>"
      ]
     },
     "execution_count": 76,
     "metadata": {},
     "output_type": "execute_result"
    },
    {
     "data": {
      "image/png": "[encoded data removed]",
      "text/plain": [
       "<Figure size 1080x504 with 1 Axes>"
      ]
     },
     "metadata": {
      "needs_background": "light"
     },
     "output_type": "display_data"
    }
   ],
   "source": [
    "# Plot the cumulative sum of profits for the early profit per trade DataFrame\n",
    "# Be sure to include at least a title with your plot\n",
    "# YOUR CODE HERE\n",
    "cumulative_profit_middle.plot(legend=True, figsize=(15,7), title=\"Cumulative profit middle\", color=\"purple\", label=\"profit 2017-12-09\")"
   ]
  },
  {
   "cell_type": "code",
   "execution_count": 77,
   "metadata": {},
   "outputs": [
    {
     "data": {
      "text/plain": [
       "Timestamp\n",
       "2018-12-09 00:00:00   NaN\n",
       "2018-12-09 00:01:00   NaN\n",
       "2018-12-09 00:02:00   NaN\n",
       "2018-12-09 00:03:00   NaN\n",
       "2018-12-09 00:04:00   NaN\n",
       "                       ..\n",
       "2018-12-09 23:53:00   NaN\n",
       "2018-12-09 23:54:00   NaN\n",
       "2018-12-09 23:57:00   NaN\n",
       "2018-12-09 23:58:00   NaN\n",
       "2018-12-09 23:59:00   NaN\n",
       "Name: Close, Length: 1335, dtype: float64"
      ]
     },
     "execution_count": 77,
     "metadata": {},
     "output_type": "execute_result"
    }
   ],
   "source": [
    "# Use the cumsum function to calculate the cumulative profits over time for the late profit per trade DataFrame\n",
    "cumulative_profit_late = profit_late.cumsum()\n",
    "cumulative_profit_late"
   ]
  },
  {
   "cell_type": "code",
   "execution_count": 78,
   "metadata": {},
   "outputs": [
    {
     "data": {
      "text/plain": [
       "<AxesSubplot:title={'center':'Cumulative profit middle'}, xlabel='Timestamp'>"
      ]
     },
     "execution_count": 78,
     "metadata": {},
     "output_type": "execute_result"
    },
    {
     "data": {
      "image/png": "[encoded data removed]",
      "text/plain": [
       "<Figure size 360x216 with 1 Axes>"
      ]
     },
     "metadata": {
      "needs_background": "light"
     },
     "output_type": "display_data"
    }
   ],
   "source": [
    "# Plot the cumulative sum of profits for the early profit per trade DataFrame\n",
    "# Be sure to include at least a title with your plot\n",
    "# YOUR CODE HERE\n",
    "cumulative_profit_late.plot(legend=True, figsize=(5,3), title=\"Cumulative profit middle\", color=\"purple\", label=\"profit 2018-12-09\")"
   ]
  },
  {
   "cell_type": "markdown",
   "metadata": {},
   "source": [
    "**Question:** After reviewing the profit information across each date from the different time periods, can you identify any patterns or trends?\n",
    "    \n",
    "**Answer:** \n",
    "Arbitrage profits are extremely hard to come by at the market for Bitcoin matures across time. As Bitcoin grows in popularity, the prices across the two exchanges trade more in line with one another. That makes is very difficult find a point where the price difference exceeds the minimum profit threshold of 1%.\n",
    "\n",
    "Our careful analyses of Bitcoin price on 2 popular crypto platforms Bitstamp and Coinbase identified that period of arbitrage opportunities came after second halving event, happened after EARLY analyzed period of 2016. Prices of Bitcoin was steadily going up until reached  \"all time high\" during price volatility of December 2017. \n",
    "\n",
    "This is why the only profitable period we found during our analyze were MIDDLE 2017-12-09 with 1440 potentially profitable trades presenting opportunity to make 1095460.4 total profit. That was a great opportunity!\n",
    "\n",
    "We can see that the arbitrage opportunities in Bitcoin didn’t last. It was a temporary situation, because arbitrage is basically a zero-risk transaction. Inconsistency in the price creates a possibility to profit immediately. As we know time factor in investment equation creates a great risk, and in this scenario we witnessed in the MIDDLE period we see opportunity to make high profits essentially risk-free. Its a dream of any investor- earning profits without a risk. Such an opportunity increases demand for buying the lower-priced asset(in out case- Bitstamp exchange), this drives the price on this platform up. \n",
    "On the other side of the arbitrage trade (Coinbase platform in this scenario) an increased number of higher priced assets  drives that price down. Eventually two prices sync, as we can see in the LATE period of December 2018 -the arbitrage opportunity disappears.\n",
    "\n",
    "\n"
   ]
  },
  {
   "cell_type": "code",
   "execution_count": null,
   "metadata": {},
   "outputs": [],
   "source": []
  },
  {
   "cell_type": "code",
   "execution_count": null,
   "metadata": {},
   "outputs": [],
   "source": []
  },
  {
   "cell_type": "code",
   "execution_count": null,
   "metadata": {},
   "outputs": [],
   "source": []
  }
 ],
 "metadata": {
  "kernelspec": {
   "display_name": "dev",
   "language": "python",
   "name": "dev"
  },
  "language_info": {
   "codemirror_mode": {
    "name": "ipython",
    "version": 3
   },
   "file_extension": ".py",
   "mimetype": "text/x-python",
   "name": "python",
   "nbconvert_exporter": "python",
   "pygments_lexer": "ipython3",
   "version": "3.7.9"
  }
 },
 "nbformat": 4,
 "nbformat_minor": 4
}
